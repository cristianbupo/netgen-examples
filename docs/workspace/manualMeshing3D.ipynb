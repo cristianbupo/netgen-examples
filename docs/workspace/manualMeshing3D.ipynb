{
 "cells": [
  {
   "cell_type": "markdown",
   "id": "a624f615",
   "metadata": {},
   "source": [
    "# Manual 3D Mesh Creation\n",
    "\n",
    "This notebook demonstrates how to manually create a 3×3×3 cube mesh using Netgen's low-level meshing API."
   ]
  },
  {
   "cell_type": "code",
   "execution_count": 1,
   "id": "89223f39",
   "metadata": {},
   "outputs": [],
   "source": [
    "from netgen.csg import unit_cube, Pnt\n",
    "from netgen.meshing import Element1D, Element2D, Element3D, MeshPoint, FaceDescriptor, Mesh\n",
    "from ngsolve.webgui import Draw\n",
    "import ngsolve"
   ]
  },
  {
   "cell_type": "code",
   "execution_count": 2,
   "id": "d99e1a5f",
   "metadata": {},
   "outputs": [],
   "source": [
    "# Parameters for 3x3x3 cube\n",
    "N = 5"
   ]
  },
  {
   "cell_type": "code",
   "execution_count": 3,
   "id": "b593b21e",
   "metadata": {},
   "outputs": [],
   "source": [
    "mesh = Mesh()\n",
    "mesh.SetGeometry(unit_cube)\n",
    "mesh.dim = 3"
   ]
  },
  {
   "cell_type": "code",
   "execution_count": 4,
   "id": "073638a6",
   "metadata": {},
   "outputs": [
    {
     "name": "stdout",
     "output_type": "stream",
     "text": [
      "Created 216 points for a 6×6×6 grid\n"
     ]
    }
   ],
   "source": [
    "# Create all mesh points in 3D grid\n",
    "pnums = []\n",
    "for k in range(N + 1):  # z direction\n",
    "    for j in range(N + 1):  # y direction\n",
    "        for i in range(N + 1):  # x direction\n",
    "            pnums.append(mesh.Add(MeshPoint(Pnt(i / N, j / N, k / N))))\n",
    "\n",
    "print(f\"Created {len(pnums)} points for a {N+1}×{N+1}×{N+1} grid\")"
   ]
  },
  {
   "cell_type": "code",
   "execution_count": 5,
   "id": "6135a263",
   "metadata": {},
   "outputs": [
    {
     "name": "stdout",
     "output_type": "stream",
     "text": [
      "Point at (0,0,0): index 0\n",
      "Point at (5,5,5): index 215\n"
     ]
    }
   ],
   "source": [
    "# Helper function to get point index\n",
    "def get_point_index(i, j, k):\n",
    "    return i + j * (N + 1) + k * (N + 1) * (N + 1)\n",
    "\n",
    "# Test the helper function\n",
    "print(f\"Point at (0,0,0): index {get_point_index(0,0,0)}\")\n",
    "print(f\"Point at ({N},{N},{N}): index {get_point_index(N,N,N)}\")"
   ]
  },
  {
   "cell_type": "code",
   "execution_count": 6,
   "id": "c1677657",
   "metadata": {},
   "outputs": [
    {
     "name": "stdout",
     "output_type": "stream",
     "text": [
      "Created FaceDescriptor with index: 1\n"
     ]
    }
   ],
   "source": [
    "mesh.SetMaterial(1, \"mat\")\n",
    "\n",
    "# Add FaceDescriptor first and get its number (for boundary faces)\n",
    "fd_boundary = mesh.Add(FaceDescriptor(surfnr=1, domin=1, bc=1))\n",
    "print(f\"Created FaceDescriptor with index: {fd_boundary}\")"
   ]
  },
  {
   "cell_type": "code",
   "execution_count": 7,
   "id": "08ed80e1",
   "metadata": {},
   "outputs": [
    {
     "name": "stdout",
     "output_type": "stream",
     "text": [
      "Created 125 hexahedral elements\n"
     ]
    }
   ],
   "source": [
    "# Create 3D elements (hexahedra/cubes)\n",
    "element_count = 0\n",
    "for k in range(N):\n",
    "    for j in range(N):\n",
    "        for i in range(N):\n",
    "            # Define the 8 vertices of a hexahedron in correct order\n",
    "            p1 = pnums[get_point_index(i, j, k)]\n",
    "            p2 = pnums[get_point_index(i+1, j, k)]\n",
    "            p3 = pnums[get_point_index(i+1, j+1, k)]\n",
    "            p4 = pnums[get_point_index(i, j+1, k)]\n",
    "            p5 = pnums[get_point_index(i, j, k+1)]\n",
    "            p6 = pnums[get_point_index(i+1, j, k+1)]\n",
    "            p7 = pnums[get_point_index(i+1, j+1, k+1)]\n",
    "            p8 = pnums[get_point_index(i, j+1, k+1)]\n",
    "            \n",
    "            # Add hexahedral element\n",
    "            mesh.Add(Element3D(1, [p1, p2, p3, p4, p5, p6, p7, p8]))\n",
    "            element_count += 1\n",
    "\n",
    "print(f\"Created {element_count} hexahedral elements\")"
   ]
  },
  {
   "cell_type": "code",
   "execution_count": 8,
   "id": "9cb37209",
   "metadata": {},
   "outputs": [
    {
     "name": "stdout",
     "output_type": "stream",
     "text": [
      "Added bottom and top faces: 50 faces so far\n"
     ]
    }
   ],
   "source": [
    "# Add boundary faces (6 faces of the cube)\n",
    "face_count = 0\n",
    "\n",
    "# Bottom face (z=0)\n",
    "for j in range(N):\n",
    "    for i in range(N):\n",
    "        p1 = pnums[get_point_index(i, j, 0)]\n",
    "        p2 = pnums[get_point_index(i+1, j, 0)]\n",
    "        p3 = pnums[get_point_index(i+1, j+1, 0)]\n",
    "        p4 = pnums[get_point_index(i, j+1, 0)]\n",
    "        mesh.Add(Element2D(fd_boundary, [p1, p2, p3, p4]))\n",
    "        face_count += 1\n",
    "\n",
    "# Top face (z=N)\n",
    "for j in range(N):\n",
    "    for i in range(N):\n",
    "        p1 = pnums[get_point_index(i, j, N)]\n",
    "        p2 = pnums[get_point_index(i+1, j, N)]\n",
    "        p3 = pnums[get_point_index(i+1, j+1, N)]\n",
    "        p4 = pnums[get_point_index(i, j+1, N)]\n",
    "        mesh.Add(Element2D(fd_boundary, [p1, p4, p3, p2]))  # Reversed order for outward normal\n",
    "        face_count += 1\n",
    "\n",
    "print(f\"Added bottom and top faces: {face_count} faces so far\")"
   ]
  },
  {
   "cell_type": "code",
   "execution_count": 9,
   "id": "911ffae0",
   "metadata": {},
   "outputs": [
    {
     "name": "stdout",
     "output_type": "stream",
     "text": [
      "Added front and back faces: 100 faces so far\n"
     ]
    }
   ],
   "source": [
    "# Front face (y=0)\n",
    "for k in range(N):\n",
    "    for i in range(N):\n",
    "        p1 = pnums[get_point_index(i, 0, k)]\n",
    "        p2 = pnums[get_point_index(i+1, 0, k)]\n",
    "        p3 = pnums[get_point_index(i+1, 0, k+1)]\n",
    "        p4 = pnums[get_point_index(i, 0, k+1)]\n",
    "        mesh.Add(Element2D(fd_boundary, [p1, p4, p3, p2]))\n",
    "        face_count += 1\n",
    "\n",
    "# Back face (y=N)\n",
    "for k in range(N):\n",
    "    for i in range(N):\n",
    "        p1 = pnums[get_point_index(i, N, k)]\n",
    "        p2 = pnums[get_point_index(i+1, N, k)]\n",
    "        p3 = pnums[get_point_index(i+1, N, k+1)]\n",
    "        p4 = pnums[get_point_index(i, N, k+1)]\n",
    "        mesh.Add(Element2D(fd_boundary, [p1, p2, p3, p4]))\n",
    "        face_count += 1\n",
    "\n",
    "print(f\"Added front and back faces: {face_count} faces so far\")"
   ]
  },
  {
   "cell_type": "code",
   "execution_count": 10,
   "id": "2d79641d",
   "metadata": {},
   "outputs": [
    {
     "name": "stdout",
     "output_type": "stream",
     "text": [
      "Added left and right faces: 150 total boundary faces\n"
     ]
    }
   ],
   "source": [
    "# Left face (x=0)\n",
    "for k in range(N):\n",
    "    for j in range(N):\n",
    "        p1 = pnums[get_point_index(0, j, k)]\n",
    "        p2 = pnums[get_point_index(0, j+1, k)]\n",
    "        p3 = pnums[get_point_index(0, j+1, k+1)]\n",
    "        p4 = pnums[get_point_index(0, j, k+1)]\n",
    "        mesh.Add(Element2D(fd_boundary, [p1, p2, p3, p4]))\n",
    "        face_count += 1\n",
    "\n",
    "# Right face (x=N)\n",
    "for k in range(N):\n",
    "    for j in range(N):\n",
    "        p1 = pnums[get_point_index(N, j, k)]\n",
    "        p2 = pnums[get_point_index(N, j+1, k)]\n",
    "        p3 = pnums[get_point_index(N, j+1, k+1)]\n",
    "        p4 = pnums[get_point_index(N, j, k+1)]\n",
    "        mesh.Add(Element2D(fd_boundary, [p1, p4, p3, p2]))  # Reversed order for outward normal\n",
    "        face_count += 1\n",
    "\n",
    "print(f\"Added left and right faces: {face_count} total boundary faces\")"
   ]
  },
  {
   "cell_type": "code",
   "execution_count": 11,
   "id": "8eea31f9",
   "metadata": {},
   "outputs": [
    {
     "name": "stdout",
     "output_type": "stream",
     "text": [
      "Added 60 boundary edges\n"
     ]
    }
   ],
   "source": [
    "# Add boundary edges (12 edges of the cube)\n",
    "edge_count = 0\n",
    "\n",
    "# Bottom edges\n",
    "for i in range(N):\n",
    "    mesh.Add(Element1D([pnums[get_point_index(i, 0, 0)], pnums[get_point_index(i+1, 0, 0)]], index=1))\n",
    "    mesh.Add(Element1D([pnums[get_point_index(i, N, 0)], pnums[get_point_index(i+1, N, 0)]], index=1))\n",
    "    mesh.Add(Element1D([pnums[get_point_index(0, i, 0)], pnums[get_point_index(0, i+1, 0)]], index=1))\n",
    "    mesh.Add(Element1D([pnums[get_point_index(N, i, 0)], pnums[get_point_index(N, i+1, 0)]], index=1))\n",
    "    edge_count += 4\n",
    "\n",
    "# Top edges\n",
    "for i in range(N):\n",
    "    mesh.Add(Element1D([pnums[get_point_index(i, 0, N)], pnums[get_point_index(i+1, 0, N)]], index=1))\n",
    "    mesh.Add(Element1D([pnums[get_point_index(i, N, N)], pnums[get_point_index(i+1, N, N)]], index=1))\n",
    "    mesh.Add(Element1D([pnums[get_point_index(0, i, N)], pnums[get_point_index(0, i+1, N)]], index=1))\n",
    "    mesh.Add(Element1D([pnums[get_point_index(N, i, N)], pnums[get_point_index(N, i+1, N)]], index=1))\n",
    "    edge_count += 4\n",
    "\n",
    "# Vertical edges\n",
    "for i in range(N):\n",
    "    mesh.Add(Element1D([pnums[get_point_index(0, 0, i)], pnums[get_point_index(0, 0, i+1)]], index=1))\n",
    "    mesh.Add(Element1D([pnums[get_point_index(N, 0, i)], pnums[get_point_index(N, 0, i+1)]], index=1))\n",
    "    mesh.Add(Element1D([pnums[get_point_index(0, N, i)], pnums[get_point_index(0, N, i+1)]], index=1))\n",
    "    mesh.Add(Element1D([pnums[get_point_index(N, N, i)], pnums[get_point_index(N, N, i+1)]], index=1))\n",
    "    edge_count += 4\n",
    "\n",
    "print(f\"Added {edge_count} boundary edges\")"
   ]
  },
  {
   "cell_type": "code",
   "execution_count": 12,
   "id": "755b8574",
   "metadata": {},
   "outputs": [
    {
     "name": "stdout",
     "output_type": "stream",
     "text": [
      "\n",
      "3D cube mesh summary:\n",
      "- Grid size: 5×5×5\n",
      "- Total points: 216\n",
      "- Hexahedral elements: 125\n",
      "- Boundary faces: 150\n",
      "- Boundary edges: 60\n"
     ]
    }
   ],
   "source": [
    "# Save the mesh\n",
    "# mesh.Save(\"cube_mesh.vol\")\n",
    "# print(\"Mesh saved as 'cube_mesh.vol'\")\n",
    "\n",
    "# Print summary\n",
    "print(f\"\\n3D cube mesh summary:\")\n",
    "print(f\"- Grid size: {N}×{N}×{N}\")\n",
    "print(f\"- Total points: {(N+1)**3}\")\n",
    "print(f\"- Hexahedral elements: {N**3}\")\n",
    "print(f\"- Boundary faces: {6 * N**2}\")\n",
    "print(f\"- Boundary edges: {12 * N}\")"
   ]
  },
  {
   "cell_type": "code",
   "execution_count": 13,
   "id": "a804b309",
   "metadata": {},
   "outputs": [
    {
     "data": {
      "application/vnd.jupyter.widget-view+json": {
       "model_id": "d6e52d41d36d479f9d0441f60e095ce5",
       "version_major": 2,
       "version_minor": 0
      },
      "text/plain": [
       "WebGuiWidget(layout=Layout(height='500px', width='100%'), value={'gui_settings': {'camera': {'pos': [2, 2, 2]}…"
      ]
     },
     "metadata": {},
     "output_type": "display_data"
    },
    {
     "data": {
      "text/plain": [
       "BaseWebGuiScene"
      ]
     },
     "execution_count": 13,
     "metadata": {},
     "output_type": "execute_result"
    }
   ],
   "source": [
    "# Visualize the mesh\n",
    "mesh = ngsolve.Mesh(mesh)\n",
    "Draw(mesh, settings={\"camera\": {\"pos\": [2, 2, 2]}})"
   ]
  }
 ],
 "metadata": {
  "kernelspec": {
   "display_name": "fcenv",
   "language": "python",
   "name": "python3"
  },
  "language_info": {
   "codemirror_mode": {
    "name": "ipython",
    "version": 3
   },
   "file_extension": ".py",
   "mimetype": "text/x-python",
   "name": "python",
   "nbconvert_exporter": "python",
   "pygments_lexer": "ipython3",
   "version": "3.12.3"
  }
 },
 "nbformat": 4,
 "nbformat_minor": 5
}
