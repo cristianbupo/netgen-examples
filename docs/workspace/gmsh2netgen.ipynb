{
 "cells": [
  {
   "cell_type": "markdown",
   "id": "1c8c4c35",
   "metadata": {},
   "source": [
    "# gmsh2netgen\n",
    "\n",
    "Convert a simple 2D Gmsh geometry into a mesh, export it, and visualize via PyVista. This notebook demonstrates geometry construction, physical groups, meshing, and conversion to a VTK data structure."
   ]
  },
  {
   "cell_type": "markdown",
   "id": "91058fcf",
   "metadata": {},
   "source": [
    "## 1. Imports and utilities\n",
    "Import Gmsh, a helper module `utils` (providing `gmsh2VTU`), and PyVista for visualization."
   ]
  },
  {
   "cell_type": "code",
   "execution_count": 1,
   "id": "02997633",
   "metadata": {},
   "outputs": [
    {
     "name": "stdout",
     "output_type": "stream",
     "text": [
      "importing ngsxfem-2.1.2504\n"
     ]
    }
   ],
   "source": [
    "import gmsh\n",
    "import utils as ut\n",
    "import pyvista as pv\n",
    "from ngsolve import *\n",
    "from netgen.geom2d import SplineGeometry\n",
    "from xfem import *\n",
    "from math import pi\n",
    "from xfem.lset_spacetime import *\n",
    "ngsglobals.msg_level = 1\n",
    "\n",
    "#import netgen.gui \n",
    "DrawDC = MakeDiscontinuousDraw(Draw)"
   ]
  },
  {
   "cell_type": "markdown",
   "id": "bd2b3a20",
   "metadata": {},
   "source": [
    "## 3. Build and mesh geometry\n",
    "We now create the CAD entities, define a curve loop and surface, then set physical groups before generating a 2D mesh."
   ]
  },
  {
   "cell_type": "markdown",
   "id": "0894e172",
   "metadata": {},
   "source": [
    "## 3. Structured (transfinite) mesh generation\n",
    "We build a 4-sided geometry and impose a structured mesh via transfinite interpolation on curves and the surface. Optionally we recombine triangles into quads."
   ]
  },
  {
   "cell_type": "markdown",
   "id": "1dcc5466",
   "metadata": {},
   "source": [
    "### Parameters\n",
    "Rectangle defined by:\n",
    "- `Lh`: horizontal length (x-direction)\n",
    "- `Lv`: vertical length (y-direction)\n",
    "\n",
    "Structured discretization:\n",
    "- `Nh`: number of intervals along horizontal edges (bottom & top)\n",
    "- `Nv`: number of intervals along vertical edges (left & right)\n",
    "- Nodes per edge = intervals + 1\n",
    "\n",
    "Grading:\n",
    "- `progh`: grading factor for horizontal edges (>1 clusters towards the second point of each edge)\n",
    "- `progv`: grading factor for vertical edges\n",
    "\n",
    "Other:\n",
    "- `recombine`: request quad recombination\n",
    "- `order`: element order (1 = linear)\n"
   ]
  },
  {
   "cell_type": "code",
   "execution_count": 2,
   "id": "3d7c2c05",
   "metadata": {},
   "outputs": [],
   "source": [
    "# Geometry lengths\n",
    "Lh = 1.2\n",
    "Lv = 2.0\n",
    "\n",
    "# Mesh divisions\n",
    "Nh = 18\n",
    "Nv = 30\n",
    "\n",
    "# Grading factors\n",
    "progh = 1.0\n",
    "progv = 1.0\n",
    "\n",
    "recombine = True  # request quads\n",
    "order = 1         # element order\n"
   ]
  },
  {
   "cell_type": "code",
   "execution_count": 3,
   "id": "4de9e56f",
   "metadata": {},
   "outputs": [
    {
     "name": "stdout",
     "output_type": "stream",
     "text": [
      "Info    : Meshing 1D...\n",
      "Info    : [  0%] Meshing curve 1 (Line)\n",
      "Info    : [ 30%] Meshing curve 2 (Line)\n",
      "Info    : [ 60%] Meshing curve 3 (Line)\n",
      "Info    : [ 80%] Meshing curve 4 (Line)\n",
      "Info    : Done meshing 1D (Wall 0.00028289s, CPU 0.000322s)\n",
      "Info    : Meshing 2D...\n",
      "Info    : Meshing surface 1 (Transfinite)\n",
      "Info    : Done meshing 2D (Wall 0.000519568s, CPU 0.000853s)\n",
      "Info    : 589 nodes 640 elements\n",
      "Info    : Optimizing mesh (Netgen)...\n",
      "Info    : Done optimizing mesh (Wall 4.398e-06s, CPU 4e-06s)\n",
      "Element types: 3\n"
     ]
    }
   ],
   "source": [
    "gmsh.initialize()\n",
    "model = gmsh.model\n",
    "occ = model.occ\n",
    "model.add(\"structured_rect\")\n",
    "\n",
    "occ.addPoint(-Lh/2, -Lv/2, 0.0)\n",
    "occ.addPoint( Lh/2, -Lv/2, 0.0)\n",
    "occ.addPoint( Lh/2,  Lv/2, 0.0)\n",
    "occ.addPoint(-Lh/2,  Lv/2, 0.0)\n",
    "\n",
    "occ.addLine(1, 2, 1)\n",
    "occ.addLine(2, 3, 2)\n",
    "occ.addLine(3, 4, 3)\n",
    "occ.addLine(4, 1, 4)\n",
    "\n",
    "occ.addCurveLoop([1,2,3,4], 1)\n",
    "occ.addPlaneSurface([1], 1)\n",
    "occ.synchronize()\n",
    "\n",
    "model.mesh.setTransfiniteCurve(1, Nh+1, coef=progh)\n",
    "model.mesh.setTransfiniteCurve(3, Nh+1, coef=progh)\n",
    "model.mesh.setTransfiniteCurve(2, Nv+1, coef=progv)\n",
    "model.mesh.setTransfiniteCurve(4, Nv+1, coef=progv)\n",
    "\n",
    "model.mesh.setTransfiniteSurface(1, cornerTags=[1,2,3,4])\n",
    "if recombine:\n",
    "    model.mesh.setRecombine(2, 1)\n",
    "\n",
    "model.addPhysicalGroup(1, [1,2,3,4], 101)\n",
    "model.setPhysicalName(1,101,\"boundary\")\n",
    "model.addPhysicalGroup(2, [1], 201)\n",
    "model.setPhysicalName(2,201,\"domain\")\n",
    "\n",
    "model.mesh.generate(2)\n",
    "model.mesh.setOrder(order)\n",
    "model.mesh.optimize(\"Netgen\")\n",
    "\n",
    "unstructuredGrid = ut.gmsh2VTU(model)  # keep model active for translation step\n"
   ]
  },
  {
   "cell_type": "markdown",
   "id": "2cf4edaa",
   "metadata": {},
   "source": [
    "### 4. Visualize\n",
    "Wrap the Gmsh mesh as a PyVista unstructured grid and plot with edge overlay."
   ]
  },
  {
   "cell_type": "code",
   "execution_count": 4,
   "id": "4e87d9f5",
   "metadata": {},
   "outputs": [
    {
     "data": {
      "application/vnd.jupyter.widget-view+json": {
       "model_id": "d1d479e99bdb4214868960915898a195",
       "version_major": 2,
       "version_minor": 0
      },
      "text/plain": [
       "Widget(value='<iframe src=\"http://localhost:34417/index.html?ui=P_0x74ca30dec290_0&reconnect=auto\" class=\"pyvi…"
      ]
     },
     "metadata": {},
     "output_type": "display_data"
    }
   ],
   "source": [
    "plotter = pv.Plotter()\n",
    "actor = plotter.add_mesh(pv.wrap(unstructuredGrid), scalars=\"Region\", cmap=\"rainbow\")\n",
    "plotter.view_xy()\n",
    "\n",
    "actor.prop.show_edges = True\n",
    "plotter.show()"
   ]
  },
  {
   "cell_type": "markdown",
   "id": "24a8989b",
   "metadata": {},
   "source": [
    "### 5. Convert Gmsh model to Netgen mesh\n",
    "We extract node coordinates and element connectivities from the live Gmsh model and build an equivalent Netgen 2D mesh using low-level Netgen Python API."
   ]
  },
  {
   "cell_type": "code",
   "execution_count": 5,
   "id": "b9cf98b9",
   "metadata": {},
   "outputs": [
    {
     "name": "stdout",
     "output_type": "stream",
     "text": [
      "Converted to ngsolve Mesh -> <class 'ngsolve.comp.Mesh'>\n",
      "Netgen/ngsolve mesh: 540 elements, 589 vertices\n"
     ]
    },
    {
     "data": {
      "application/vnd.jupyter.widget-view+json": {
       "model_id": "e01c7b044407465ea1eb6b55d941fb42",
       "version_major": 2,
       "version_minor": 0
      },
      "text/plain": [
       "WebGuiWidget(layout=Layout(height='500px', width='100%'), value={'gui_settings': {}, 'ngsolve_version': '6.2.2…"
      ]
     },
     "metadata": {},
     "output_type": "display_data"
    },
    {
     "data": {
      "text/plain": [
       "BaseWebGuiScene"
      ]
     },
     "execution_count": 5,
     "metadata": {},
     "output_type": "execute_result"
    }
   ],
   "source": [
    "from netgen.meshing import Mesh as NGMesh, MeshPoint, Element2D, Element1D, FaceDescriptor\n",
    "from netgen.csg import Pnt\n",
    "import ngsolve\n",
    "from ngsolve import Mesh as NGSolveMesh\n",
    "\n",
    "# Build a Netgen (geometry) mesh first\n",
    "ngmesh = NGMesh()\n",
    "ngmesh.dim = 2\n",
    "\n",
    "# FaceDescriptor: surface number 1 -> material / bc info (here domin=1, bc=1)\n",
    "fd = ngmesh.Add(FaceDescriptor(surfnr=1, domin=1, bc=1))\n",
    "\n",
    "nodeTags, coords, _ = gmsh.model.mesh.getNodes()\n",
    "\n",
    "# Build mapping gmsh tag -> netgen point number\n",
    "ptMap = {}\n",
    "for i, tag in enumerate(nodeTags):\n",
    "    x = coords[3*i]; y = coords[3*i+1]; z = coords[3*i+2]\n",
    "    pnum = ngmesh.Add(MeshPoint(Pnt(x,y,z)))\n",
    "    ptMap[tag] = pnum\n",
    "\n",
    "# Elements (2D)\n",
    "all2d = gmsh.model.mesh.getElements(2)\n",
    "for elemType, elemTags, elemNodeTags in zip(*all2d):\n",
    "    # elemType 2: triangle (3 nodes), elemType 3: quadrangle (4 nodes)\n",
    "    nn = {2:3, 3:4}.get(elemType)\n",
    "    if nn is None:\n",
    "        continue\n",
    "    for e in range(len(elemTags)):\n",
    "        nodes = elemNodeTags[nn*e:nn*(e+1)]\n",
    "        ngNodes = [ptMap[t] for t in nodes]\n",
    "        ngmesh.Add(Element2D(fd, ngNodes))\n",
    "\n",
    "# Elements (1D) (boundary)\n",
    "edge_types = gmsh.model.mesh.getElements(1)\n",
    "for elemType, elemTags, elemNodeTags in zip(*edge_types):\n",
    "    if elemType != 1:  # only 2-node lines\n",
    "        continue\n",
    "    for e in range(len(elemTags)):\n",
    "        n1, n2 = elemNodeTags[2*e:2*e+2]\n",
    "        ngmesh.Add(Element1D([ptMap[n1], ptMap[n2]], index=1))\n",
    "\n",
    "# Wrap as ngsolve Mesh and reuse variable name 'mesh' expected by later cells\n",
    "mesh = NGSolveMesh(ngmesh)\n",
    "print(\"Converted to ngsolve Mesh ->\", type(mesh))\n",
    "print(f\"Netgen/ngsolve mesh: {mesh.ne} elements, {mesh.nv} vertices\")\n",
    "\n",
    "from ngsolve.webgui import Draw\n",
    "Draw(mesh)"
   ]
  },
  {
   "cell_type": "code",
   "execution_count": 6,
   "id": "f2525260",
   "metadata": {},
   "outputs": [],
   "source": [
    "from ngsolve import *\n",
    "from xfem import *\n",
    "from math import pi\n",
    "from xfem.lset_spacetime import *\n",
    "ngsglobals.msg_level = 1\n",
    "\n",
    "#import netgen.gui \n",
    "DrawDC = MakeDiscontinuousDraw(Draw)"
   ]
  },
  {
   "cell_type": "code",
   "execution_count": 7,
   "id": "cb1083ca",
   "metadata": {},
   "outputs": [],
   "source": [
    "# DISCRETIZATION PARAMETERS:\n",
    "\n",
    "# Parameter for refinement study:\n",
    "i = 3\n",
    "n_steps = 2**i\n",
    "space_refs = i\n",
    "\n",
    "# Polynomial order in time\n",
    "k_t = 2\n",
    "# Polynomial order in space\n",
    "k_s = k_t\n",
    "# Polynomial order in time for level set approximation\n",
    "lset_order_time = k_t\n",
    "# Integration order in time\n",
    "time_order = 2 * k_t\n",
    "# Time stepping parameters\n",
    "tstart = 0\n",
    "tend = 0.5\n",
    "delta_t = (tend - tstart) / n_steps\n",
    "maxh = 0.5\n",
    "# Ghost-penalty parameter\n",
    "gamma = 0.05"
   ]
  },
  {
   "cell_type": "code",
   "execution_count": 8,
   "id": "df64cac4",
   "metadata": {},
   "outputs": [
    {
     "data": {
      "text/plain": [
       "<ngsolve.fem.CoefficientFunction at 0x74c9d7f16510>"
      ]
     },
     "execution_count": 8,
     "metadata": {},
     "output_type": "execute_result"
    }
   ],
   "source": [
    "# Map from reference time to physical time\n",
    "told = Parameter(tstart)\n",
    "t = told + delta_t * tref\n",
    "t.MakeVariable()"
   ]
  },
  {
   "cell_type": "code",
   "execution_count": 9,
   "id": "ed08a539",
   "metadata": {},
   "outputs": [],
   "source": [
    "# Level set geometry\n",
    "# Radius of disk (the geometry)\n",
    "R = 0.5\n",
    "# Position shift of the geometry in time\n",
    "rho = (1 / (pi)) * sin(2 * pi * t)\n",
    "# Convection velocity:\n",
    "w = CoefficientFunction((0, rho.Diff(t)))\n",
    "# Level set\n",
    "r = sqrt(x**2 + (y - rho)**2)\n",
    "levelset = r - R\n",
    "\n",
    "# Diffusion coefficient\n",
    "alpha = 1\n",
    "# Solution\n",
    "u_exact = cos(pi * r / R) * sin(pi * t)\n",
    "# R.h.s.\n",
    "coeff_f = (u_exact.Diff(t)\n",
    "           - alpha * (u_exact.Diff(x).Diff(x) + u_exact.Diff(y).Diff(y))\n",
    "           + w[0] * u_exact.Diff(x) + w[1] * u_exact.Diff(y)).Compile()"
   ]
  },
  {
   "cell_type": "code",
   "execution_count": 10,
   "id": "c80560eb",
   "metadata": {},
   "outputs": [
    {
     "name": "stdout",
     "output_type": "stream",
     "text": [
      "<class 'ngsolve.comp.Mesh'>\n"
     ]
    },
    {
     "data": {
      "application/vnd.jupyter.widget-view+json": {
       "model_id": "848760a6c843486b810d9fe354c8d145",
       "version_major": 2,
       "version_minor": 0
      },
      "text/plain": [
       "WebGuiWidget(layout=Layout(height='500px', width='100%'), value={'gui_settings': {}, 'ngsolve_version': '6.2.2…"
      ]
     },
     "metadata": {},
     "output_type": "display_data"
    },
    {
     "data": {
      "text/plain": [
       "BaseWebGuiScene"
      ]
     },
     "execution_count": 10,
     "metadata": {},
     "output_type": "execute_result"
    }
   ],
   "source": [
    "r_one_timestep = sqrt(x**2 + (y - (1 / (pi)) * sin(2 * pi * tref * tend))**2)\n",
    "levelset_one_timestep = r_one_timestep - R\n",
    "#TimeSlider_Draw(levelset_one_timestep,mesh,autoscale=False,min=-0.02,max=0.02,deformation=True)\n",
    "\n",
    "from helper import ProjectOnMultiDimGF\n",
    "print(type(mesh))\n",
    "lset_to_show = ProjectOnMultiDimGF(levelset_one_timestep,mesh,order=3,sampling=8)\n",
    "Draw(lset_to_show,mesh,\"u_exact\",autoscale=False,min=-0.5,max=1, interpolate_multidim=True, animate=True, deformation=True)"
   ]
  },
  {
   "cell_type": "code",
   "execution_count": 11,
   "id": "2cdcf99f",
   "metadata": {},
   "outputs": [
    {
     "data": {
      "application/vnd.jupyter.widget-view+json": {
       "model_id": "32b6b0f9594b4a1098ec826a07e5434f",
       "version_major": 2,
       "version_minor": 0
      },
      "text/plain": [
       "WebGuiWidget(layout=Layout(height='500px', width='100%'), value={'gui_settings': {}, 'ngsolve_version': '6.2.2…"
      ]
     },
     "metadata": {},
     "output_type": "display_data"
    },
    {
     "data": {
      "text/plain": [
       "BaseWebGuiScene"
      ]
     },
     "execution_count": 11,
     "metadata": {},
     "output_type": "execute_result"
    }
   ],
   "source": [
    "u_exact_one_timestep = cos(pi * r_one_timestep / R) * sin(pi * tref * tend)\n",
    "\n",
    "from helper import ProjectPairOnMultiDimGF\n",
    "lset_cf_to_show = ProjectPairOnMultiDimGF(levelset_one_timestep, u_exact_one_timestep,mesh,order=3,sampling=8)\n",
    "\n",
    "Draw(lset_cf_to_show,mesh,\"u_exact\",eval_function=\"value.x>0.0?value.z:value.y\",autoscale=False,\n",
    "     min=-0.5,max=1, interpolate_multidim=True, animate=True)"
   ]
  },
  {
   "cell_type": "markdown",
   "id": "9b8735c5",
   "metadata": {},
   "source": [
    "## Space-Time finite elements\n",
    "\n",
    "* For the construction of a space-time `FESpace` we can combine any spatial `FESpace` with a scalar `FiniteElement` in a tensor-product fashion.\n",
    "* Here, we use a nodal `FiniteElement` to simplify the extraction of spatial functions at fixed times."
   ]
  },
  {
   "cell_type": "code",
   "execution_count": 12,
   "id": "5517d3c1",
   "metadata": {},
   "outputs": [],
   "source": [
    "# Spatial FESpace for solution\n",
    "fes1 = H1(mesh, order=k_s, dgjumps=True)\n",
    "# Time finite element (nodal!)\n",
    "tfe = ScalarTimeFE(k_t)\n",
    "# (Tensor product) space-time finite element space\n",
    "st_fes = tfe * fes1"
   ]
  },
  {
   "cell_type": "markdown",
   "id": "6aec96a5",
   "metadata": {},
   "source": [
    "## Levelset mesh adaptation class\n",
    "\n",
    "In order to achieve higher order accuracy in space and time, a variant of the isoparametric mapping for stationary domains is applied."
   ]
  },
  {
   "cell_type": "code",
   "execution_count": 13,
   "id": "19692da1",
   "metadata": {},
   "outputs": [],
   "source": [
    "# Space time version of Levelset Mesh Adapation object. Also offers integrator\n",
    "# helper functions that involve the correct mesh deformation\n",
    "lsetadap = LevelSetMeshAdaptation_Spacetime(mesh, order_space=k_s,\n",
    "                                            order_time=lset_order_time,\n",
    "                                            threshold=0.5,\n",
    "                                            discontinuous_qn=True)"
   ]
  },
  {
   "cell_type": "markdown",
   "id": "2047c6c0",
   "metadata": {},
   "source": [
    "### Space-Time version of the `CutInfo` class\n",
    "The `CutInfo` class also works for space-time geometries. Its initialization is trivial:"
   ]
  },
  {
   "cell_type": "code",
   "execution_count": 14,
   "id": "4da48c03",
   "metadata": {},
   "outputs": [],
   "source": [
    "ci = CutInfo(mesh, time_order=0)"
   ]
  },
  {
   "cell_type": "markdown",
   "id": "3b73fd39",
   "metadata": {},
   "source": [
    "Note the argument `time_order=0` which makes the `CutInfo` looking for space-time cut information afterwards.\n",
    "\n",
    "In addition, we define a Bitarray for the facets of the mesh for later use in the definition of the Ghost-penalty stabilisation."
   ]
  },
  {
   "cell_type": "code",
   "execution_count": 15,
   "id": "8409e14c",
   "metadata": {},
   "outputs": [],
   "source": [
    "ba_facets = BitArray(mesh.nfacet)\n",
    "active_dofs = BitArray(st_fes.ndof)"
   ]
  },
  {
   "cell_type": "markdown",
   "id": "8e26e863",
   "metadata": {},
   "source": [
    "To Update the slab geometry later on (for updated values of `told`) we do the following:\n",
    " * update of the isoparametric mapping\n",
    " * update of the cut information\n",
    " * update of facet markers\n",
    " * update of dof markers"
   ]
  },
  {
   "cell_type": "code",
   "execution_count": 16,
   "id": "61993d02",
   "metadata": {},
   "outputs": [],
   "source": [
    "def UpdateTimeSlabGeometry():\n",
    "    lsetadap.CalcDeformation(levelset)\n",
    "\n",
    "    # Update markers in (space-time) mesh\n",
    "    ci.Update(lsetadap.levelsetp1[INTERVAL], time_order=0)\n",
    "\n",
    "    # re-compute the facets for stabilization:\n",
    "    ba_facets[:] = GetFacetsWithNeighborTypes(mesh,\n",
    "                                              a=ci.GetElementsOfType(HASNEG),\n",
    "                                              b=ci.GetElementsOfType(IF))\n",
    "    active_dofs[:] = GetDofsOfElements(st_fes, ci.GetElementsOfType(HASNEG))"
   ]
  },
  {
   "cell_type": "markdown",
   "id": "7ffd9b1f",
   "metadata": {},
   "source": [
    "Note that here the call of CalcDeformation of lsetadap entails the calculation of the P1 projection of the levelset function internally. The space-time P1-in-space level set approximation of `lsetadap` can be accessed by `lsetadap.levelsetp1[timetype]` where `timetype` is either `INTERVAL` which yields the space-time function or `TOP` or `BOTTOM` which yields the spatial P1 function that is obtained by restriction to either `tref=1` or `tref=0`. Similarly the access to the deformation is organized as `lsetadap.deformation[timetype]`."
   ]
  },
  {
   "cell_type": "markdown",
   "id": "d0e5e340",
   "metadata": {},
   "source": [
    "### Solution GridFunction"
   ]
  },
  {
   "cell_type": "code",
   "execution_count": 17,
   "id": "bb16ddbe",
   "metadata": {},
   "outputs": [],
   "source": [
    "gfu = GridFunction(st_fes)\n",
    "u_last = CreateTimeRestrictedGF(gfu, 1)"
   ]
  },
  {
   "cell_type": "markdown",
   "id": "16a9ced1",
   "metadata": {},
   "source": [
    "## Variational formulation\n",
    "\n",
    "Now we would like to derive a suitable variational formulation on the time slabs $Q^{n}$. \n",
    "\n",
    "We start by multiplying the equation  \n",
    "\\begin{equation*}\n",
    "\\partial_{t} u- \\alpha \\Delta{u} + w \\cdot \\nabla{u} = f \\quad  in \\quad \\Omega(t),   \\qquad  t \\in [0,T] \n",
    "\\end{equation*}\n",
    "by a test function $v$ and perform integration by parts."
   ]
  },
  {
   "cell_type": "markdown",
   "id": "10ae08c8",
   "metadata": {},
   "source": [
    "### Implementation of space-time integrals"
   ]
  },
  {
   "cell_type": "code",
   "execution_count": 18,
   "id": "9be2a50d",
   "metadata": {},
   "outputs": [],
   "source": [
    "u,v = st_fes.TnT()\n",
    "h = specialcf.mesh_size"
   ]
  },
  {
   "cell_type": "markdown",
   "id": "5e05b464",
   "metadata": {},
   "source": [
    "#### Transformation from reference interval to $(t_{n-1},t_n)$:\n",
    "The transformation\n",
    "$$\n",
    "(x,\\hat{t}) \\to (x,t_{n-1} + \\hat{t} \\Delta t), \\qquad v(x,t) = \\hat{v}(x,\\hat{t}), \\quad u(x,t) = \\hat{u}(x,\\hat{t}).\n",
    "$$\n",
    "implies the following for the time derivative."
   ]
  },
  {
   "cell_type": "code",
   "execution_count": 19,
   "id": "c84478e7",
   "metadata": {},
   "outputs": [],
   "source": [
    "def dt(u):\n",
    "    return 1.0 / delta_t * dtref(u)"
   ]
  },
  {
   "cell_type": "markdown",
   "id": "e8096af7",
   "metadata": {},
   "source": [
    "Next, we define integration region symbols, which are the numerical counterparts of the regions introduced above. Note that the levelset deformation is included to achieve higher order in space. The `definedonelements` information is not necessary (for the first three symbols), but helpful for efficiency reasons."
   ]
  },
  {
   "cell_type": "code",
   "execution_count": 20,
   "id": "504fec7a",
   "metadata": {},
   "outputs": [],
   "source": [
    "dQ = delta_t * dCut(lsetadap.levelsetp1[INTERVAL], NEG, time_order=time_order,\n",
    "                    deformation=lsetadap.deformation[INTERVAL],\n",
    "                    definedonelements=ci.GetElementsOfType(HASNEG))\n",
    "dOmold = dCut(lsetadap.levelsetp1[BOTTOM], NEG,\n",
    "              deformation=lsetadap.deformation[BOTTOM],\n",
    "              definedonelements=ci.GetElementsOfType(HASNEG), tref=0)\n",
    "dOmnew = dCut(lsetadap.levelsetp1[TOP], NEG,\n",
    "              deformation=lsetadap.deformation[TOP],\n",
    "              definedonelements=ci.GetElementsOfType(HASNEG), tref=1)\n",
    "dw = delta_t * dFacetPatch(definedonelements=ba_facets, time_order=time_order,\n",
    "                           deformation=lsetadap.deformation[INTERVAL])"
   ]
  },
  {
   "cell_type": "markdown",
   "id": "0dd6aea5",
   "metadata": {},
   "source": [
    "Now we setup the bilinear form and linear form corresponding to the previously described discrete variational formulation."
   ]
  },
  {
   "cell_type": "code",
   "execution_count": 21,
   "id": "eead93db",
   "metadata": {},
   "outputs": [],
   "source": [
    "a = RestrictedBilinearForm(st_fes, \"a\", check_unused=False,\n",
    "                           element_restriction=ci.GetElementsOfType(HASNEG),\n",
    "                           facet_restriction=ba_facets)"
   ]
  },
  {
   "cell_type": "markdown",
   "id": "9c1c3a9c",
   "metadata": {},
   "source": [
    "First integral:  $(\\partial_t u, v)_{Q^{n}}$"
   ]
  },
  {
   "cell_type": "code",
   "execution_count": 22,
   "id": "e73447e4",
   "metadata": {},
   "outputs": [],
   "source": [
    "a += v * (dt(u) - dt(lsetadap.deform) * grad(u)) * dQ"
   ]
  },
  {
   "cell_type": "markdown",
   "id": "06905858",
   "metadata": {},
   "source": [
    "Note that here, due to the time-dependent mesh deformation, the partial derivative in physical coordinates that we used in the formulation before corresponds to the partial derivative w.r.t. the reference configuration minus an additional mesh velocity contribution."
   ]
  },
  {
   "cell_type": "markdown",
   "id": "555d36b6",
   "metadata": {},
   "source": [
    "Second integral: $\\alpha (\\nabla{u},\\nabla{v})_{Q^{n}}$"
   ]
  },
  {
   "cell_type": "code",
   "execution_count": 23,
   "id": "95054dc1",
   "metadata": {},
   "outputs": [],
   "source": [
    "a += alpha * InnerProduct(grad(u), grad(v)) * dQ"
   ]
  },
  {
   "cell_type": "markdown",
   "id": "3589d827",
   "metadata": {},
   "source": [
    "Third integral: $(v, \\nabla{u} \\cdot w)_{Q^{n}}$"
   ]
  },
  {
   "cell_type": "code",
   "execution_count": 24,
   "id": "4abd7522",
   "metadata": {},
   "outputs": [],
   "source": [
    "a += v * w * grad(u) * dQ"
   ]
  },
  {
   "cell_type": "markdown",
   "id": "2f938b4b",
   "metadata": {},
   "source": [
    "Fourth integral: $(u_{n−1}^+,v_{n−1}^+)_{\\Omega^{n−1}}$"
   ]
  },
  {
   "cell_type": "code",
   "execution_count": 25,
   "id": "dde86865",
   "metadata": {},
   "outputs": [],
   "source": [
    "a += u * v * dOmold"
   ]
  },
  {
   "cell_type": "markdown",
   "id": "eb72055f",
   "metadata": {},
   "source": [
    "Fifth integral:\n",
    "$$ s_h(u,v) =   \\sum\\limits_{F \\in F_{h}}{ \\gamma_{j} \\int\\limits_{t_{n-1}}^{t_{n}}{   \\int\\limits_{\\omega_F}{  h^{-2} [\\![ u]\\!] \\, [\\![ v]\\!]         \\, d\\mathbf{x} \\, dt.  }}} =   \\sum\\limits_{F \\in F_{h}}{ \\Delta t \\ \\gamma_{j} \\int\\limits_{t_{n-1}}^{t_{n}}{   \\int\\limits_{\\omega_F}{  h^{-2} [\\![ \\hat u]\\!] \\, [\\![ \\hat v]\\!]         \\, d\\mathbf{x} \\, dt.  }}}  $$"
   ]
  },
  {
   "cell_type": "code",
   "execution_count": 26,
   "id": "e3bd2d76",
   "metadata": {},
   "outputs": [],
   "source": [
    "a += h**(-2) * (1 + delta_t / h) * gamma * \\\n",
    "    (u - u.Other()) * (v - v.Other()) * dw"
   ]
  },
  {
   "cell_type": "markdown",
   "id": "67373e75",
   "metadata": {},
   "source": [
    "Sixth integral: $(f,v)_{Q^{n}}$"
   ]
  },
  {
   "cell_type": "code",
   "execution_count": 27,
   "id": "67c3b9d5",
   "metadata": {},
   "outputs": [],
   "source": [
    "f = LinearForm(st_fes)\n",
    "f += coeff_f * v * dQ"
   ]
  },
  {
   "cell_type": "markdown",
   "id": "18997658",
   "metadata": {},
   "source": [
    "Seventh integral: $(u_{n−1}^-,v_{n−1}^+)_{\\Omega^{n−1}}$"
   ]
  },
  {
   "cell_type": "code",
   "execution_count": 28,
   "id": "bc42dd2b",
   "metadata": {},
   "outputs": [],
   "source": [
    "f += u_last * v * dOmold"
   ]
  },
  {
   "cell_type": "markdown",
   "id": "13f8964f",
   "metadata": {},
   "source": [
    "### Solution of linear systems in every time step\n",
    "* setup the new linear system\n",
    "* solve the linear system"
   ]
  },
  {
   "cell_type": "code",
   "execution_count": 29,
   "id": "20c33b54",
   "metadata": {},
   "outputs": [],
   "source": [
    "def SolveForTimeSlab():\n",
    "    a.Assemble(reallocate=True)\n",
    "    f.Assemble()\n",
    "    inv = a.mat.Inverse(active_dofs)\n",
    "    gfu.vec.data = inv * f.vec.data"
   ]
  },
  {
   "cell_type": "markdown",
   "id": "b38d7db2",
   "metadata": {},
   "source": [
    "### At the end of every time step, we\n",
    "* store the solution at $t_n$ into a (purely) spatial `GridFunction` (to be used in next time step)\n",
    "* compute the error\n",
    "* update visualization"
   ]
  },
  {
   "cell_type": "code",
   "execution_count": 30,
   "id": "8f0907b2",
   "metadata": {},
   "outputs": [],
   "source": [
    "def FinalizeStep(scene=None):\n",
    "    # Evaluate upper trace of solution for\n",
    "    #  * for error evaluation\n",
    "    #  * upwind-coupling to next time slab\n",
    "    RestrictGFInTime(spacetime_gf=gfu, reference_time=1.0, space_gf=u_last)\n",
    "\n",
    "    # Compute error at final time\n",
    "    l2error = sqrt(Integrate((u_exact - u_last)**2 * dOmnew, mesh))\n",
    "    print(\"\\rt = {0:12.9f}, L2 error = {1:12.9e}\".format(told.Get(), l2error), end=\"\")\n",
    "    if scene:\n",
    "        scene.Redraw()"
   ]
  },
  {
   "cell_type": "markdown",
   "id": "c0897368",
   "metadata": {},
   "source": [
    "### The final time loop"
   ]
  },
  {
   "cell_type": "code",
   "execution_count": 31,
   "id": "8a128cc4",
   "metadata": {},
   "outputs": [
    {
     "data": {
      "application/vnd.jupyter.widget-view+json": {
       "model_id": "45619e3bdd544dd19bcfa62813b5f52a",
       "version_major": 2,
       "version_minor": 0
      },
      "text/plain": [
       "WebGuiWidget(layout=Layout(height='500px', width='100%'), value={'gui_settings': {}, 'ngsolve_version': '6.2.2…"
      ]
     },
     "metadata": {},
     "output_type": "display_data"
    }
   ],
   "source": [
    "scene = DrawDC(lsetadap.levelsetp1[TOP],u_last,-2, mesh,\"u\", autoscale=False, min = -2, max = 1, deformation = lsetadap.deformation[TOP])"
   ]
  },
  {
   "cell_type": "markdown",
   "id": "3bd68d57",
   "metadata": {},
   "source": [
    "Due to the mesh deformation changing (discontinuously) between time slabs, we have to project solutions from one time slab to the other. This is automatically done for all `GridFunctions` registered in `lsetadap` by `ProjectOnUpdate`."
   ]
  },
  {
   "cell_type": "code",
   "execution_count": 32,
   "id": "68b9e968",
   "metadata": {},
   "outputs": [
    {
     "name": "stdout",
     "output_type": "stream",
     "text": [
      "t =  0.500000000, L2 error = 3.272294664e-01\n",
      "t =  0.500000000, L2 error = 3.272294664e-01\n"
     ]
    }
   ],
   "source": [
    "# Set initial values\n",
    "u_last.Set(fix_tref(u_exact, 0))\n",
    "# Project u_last at the beginning of each time step\n",
    "lsetadap.ProjectOnUpdate(u_last)\n",
    "told.Set(0)\n",
    "gf_lset_to_show = GridFunction(H1(mesh, order=1),multidim=0)\n",
    "gf_u_to_show = GridFunction(u_last.space,multidim=0)\n",
    "timestep = 0\n",
    "md_comps = 0\n",
    "with TaskManager():\n",
    "    while tend - told.Get() > delta_t/2:\n",
    "        UpdateTimeSlabGeometry()\n",
    "        if timestep % 1 == 0:\n",
    "            gf_lset_to_show.AddMultiDimComponent(lsetadap.levelsetp1[BOTTOM].vec)\n",
    "            gf_u_to_show.AddMultiDimComponent(u_last.vec)\n",
    "            md_comps += 1\n",
    "        SolveForTimeSlab()       \n",
    "        timestep += 1\n",
    "        told.Set(told.Get() + delta_t)\n",
    "        FinalizeStep(scene)\n",
    "gf_lset_to_show.AddMultiDimComponent(lsetadap.levelsetp1[TOP].vec)\n",
    "gf_u_to_show.AddMultiDimComponent(u_last.vec)\n",
    "print(\"\")"
   ]
  },
  {
   "cell_type": "code",
   "execution_count": 33,
   "id": "ff2c5da7",
   "metadata": {},
   "outputs": [
    {
     "data": {
      "application/vnd.jupyter.widget-view+json": {
       "model_id": "9672e241f8e94a34b788f26111ad49f2",
       "version_major": 2,
       "version_minor": 0
      },
      "text/plain": [
       "WebGuiWidget(layout=Layout(height='500px', width='100%'), value={'gui_settings': {}, 'ngsolve_version': '6.2.2…"
      ]
     },
     "metadata": {},
     "output_type": "display_data"
    },
    {
     "data": {
      "text/plain": [
       "BaseWebGuiScene"
      ]
     },
     "execution_count": 33,
     "metadata": {},
     "output_type": "execute_result"
    }
   ],
   "source": [
    "from helper import MultiDimPairToGF\n",
    "gf_pair_to_show = MultiDimPairToGF(gf_lset_to_show,gf_u_to_show,mesh,sampling=md_comps)\n",
    "Draw(gf_pair_to_show, mesh,\"uh\",eval_function=\"value.x>0.0?value.z:value.y\",autoscale=False,\n",
    "     min=-0.5,max=1, interpolate_multidim=True, animate=True)"
   ]
  }
 ],
 "metadata": {
  "kernelspec": {
   "display_name": "fcenv",
   "language": "python",
   "name": "python3"
  },
  "language_info": {
   "codemirror_mode": {
    "name": "ipython",
    "version": 3
   },
   "file_extension": ".py",
   "mimetype": "text/x-python",
   "name": "python",
   "nbconvert_exporter": "python",
   "pygments_lexer": "ipython3",
   "version": "3.12.3"
  }
 },
 "nbformat": 4,
 "nbformat_minor": 5
}
