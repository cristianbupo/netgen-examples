{
 "cells": [
  {
   "cell_type": "markdown",
   "metadata": {},
   "source": [
    "# Linear elasticity: 2D cantilever under tip traction (plane strain)\n"
   ]
  },
  {
   "cell_type": "code",
   "execution_count": 50,
   "metadata": {},
   "outputs": [],
   "source": [
    "from ngsolve import *\n",
    "from ngsolve.webgui import Draw\n",
    "from netgen.occ import *"
   ]
  },
  {
   "cell_type": "markdown",
   "metadata": {},
   "source": [
    " Geometry & mesh (rectangle with named sides)"
   ]
  },
  {
   "cell_type": "code",
   "execution_count": 51,
   "metadata": {},
   "outputs": [],
   "source": [
    "shape = Rectangle(1.0, 1.0).Face()\n",
    "shape.edges.Max(X).name = \"right\"\n",
    "shape.edges.Min(X).name = \"left\"\n",
    "shape.edges.Max(Y).name = \"top\"\n",
    "shape.edges.Min(Y).name = \"bottom\"\n",
    "mesh = Mesh(OCCGeometry(shape, dim=2).GenerateMesh(maxh=0.04))"
   ]
  },
  {
   "cell_type": "markdown",
   "metadata": {},
   "source": [
    "Material (E, nu)"
   ]
  },
  {
   "cell_type": "code",
   "execution_count": 52,
   "metadata": {},
   "outputs": [],
   "source": [
    "E, nu = 1.0, 0.20 \n",
    "mu  = E/(2*(1+nu))\n",
    "lam = E*nu/((1+nu)*(1-2*nu))    # 3D Lamé (plane strain default)\n",
    "\n",
    "plane_stress = False\n",
    "lam_eff = (2*mu*nu/(1-nu)) if plane_stress else lam\n"
   ]
  },
  {
   "cell_type": "markdown",
   "metadata": {},
   "source": [
    "FE space (component-wise Dirichlet via a product space)"
   ]
  },
  {
   "cell_type": "code",
   "execution_count": 53,
   "metadata": {},
   "outputs": [],
   "source": [
    "Vx = H1(mesh, order=2, dirichlet=\"left\")     # only x-component fixed on 'left'\n",
    "Vy = H1(mesh, order=2, dirichlet=\"bottom\")   # only y-component fixed on 'bottom'\n",
    "X  = Vx * Vy\n",
    "(ux, uy), (vx, vy) = X.TnT()"
   ]
  },
  {
   "cell_type": "markdown",
   "metadata": {},
   "source": [
    "Kinematics & constitutive law"
   ]
  },
  {
   "cell_type": "code",
   "execution_count": 54,
   "metadata": {},
   "outputs": [],
   "source": [
    "def eps_2D(ux, uy):\n",
    "    exx = grad(ux)[0]\n",
    "    eyy = grad(uy)[1]\n",
    "    exy = 0.5*(grad(ux)[1] + grad(uy)[0])\n",
    "    return CoefficientFunction((exx, exy,   # row 0: [exx, exy]\n",
    "                                exy, eyy),  # row 1: [exy, eyy]\n",
    "                               dims=(2,2))\n",
    "\n",
    "def sigma_2D(ux, uy):\n",
    "    e  = eps_2D(ux, uy)\n",
    "    tr = grad(ux)[0] + grad(uy)[1]           # exx + eyy\n",
    "    return 2*mu*e + lam_eff*tr*Id(2)\n"
   ]
  },
  {
   "cell_type": "markdown",
   "metadata": {},
   "source": [
    "Forms: a(u,v) and f(v)"
   ]
  },
  {
   "cell_type": "code",
   "execution_count": 55,
   "metadata": {},
   "outputs": [],
   "source": [
    "a = BilinearForm(X, symmetric=True)\n",
    "a += InnerProduct(sigma_2D(ux, uy), eps_2D(vx, vy)) * dx\n"
   ]
  },
  {
   "cell_type": "markdown",
   "metadata": {},
   "source": [
    "Uniform upward traction on the right edge (adjust as you like)"
   ]
  },
  {
   "cell_type": "code",
   "execution_count": 56,
   "metadata": {},
   "outputs": [],
   "source": [
    "t = CoefficientFunction((1.0, 0.0))\n",
    "f = LinearForm(X)\n",
    "f += InnerProduct(t, CoefficientFunction((vx, vy))) * ds(\"right\")"
   ]
  },
  {
   "cell_type": "markdown",
   "metadata": {},
   "source": [
    "Solve"
   ]
  },
  {
   "cell_type": "code",
   "execution_count": 57,
   "metadata": {},
   "outputs": [],
   "source": [
    "with TaskManager():\n",
    "    a.Assemble(); f.Assemble()\n",
    "    gfu = GridFunction(X)\n",
    "    gfu.vec.data = a.mat.Inverse(X.FreeDofs()) * f.vec\n",
    "\n"
   ]
  },
  {
   "cell_type": "markdown",
   "metadata": {},
   "source": [
    " Visualize displacement & a stress component"
   ]
  },
  {
   "cell_type": "code",
   "execution_count": 58,
   "metadata": {},
   "outputs": [
    {
     "data": {
      "application/vnd.jupyter.widget-view+json": {
       "model_id": "f28063e366494b6bae4783f4b0193aa8",
       "version_major": 2,
       "version_minor": 0
      },
      "text/plain": [
       "WebGuiWidget(layout=Layout(height='500px', width='100%'), value={'gui_settings': {}, 'ngsolve_version': '6.2.2…"
      ]
     },
     "metadata": {},
     "output_type": "display_data"
    },
    {
     "data": {
      "application/vnd.jupyter.widget-view+json": {
       "model_id": "00a8c2d28761480caad340347b0e0a10",
       "version_major": 2,
       "version_minor": 0
      },
      "text/plain": [
       "WebGuiWidget(layout=Layout(height='500px', width='100%'), value={'gui_settings': {}, 'ngsolve_version': '6.2.2…"
      ]
     },
     "metadata": {},
     "output_type": "display_data"
    },
    {
     "data": {
      "text/plain": [
       "BaseWebGuiScene"
      ]
     },
     "execution_count": 58,
     "metadata": {},
     "output_type": "execute_result"
    }
   ],
   "source": [
    "uh = CoefficientFunction((gfu.components[0], gfu.components[1]))\n",
    "Draw(Norm(uh), mesh, \"||u||\", deformation=uh)\n",
    "Draw(sigma_2D(uh[0], uh[1])[0,0], mesh, \"Sxx\", deformation=uh)"
   ]
  }
 ],
 "metadata": {
  "kernelspec": {
   "display_name": "fcenv",
   "language": "python",
   "name": "python3"
  },
  "language_info": {
   "codemirror_mode": {
    "name": "ipython",
    "version": 3
   },
   "file_extension": ".py",
   "mimetype": "text/x-python",
   "name": "python",
   "nbconvert_exporter": "python",
   "pygments_lexer": "ipython3",
   "version": "3.12.3"
  },
  "widgets": {
   "application/vnd.jupyter.widget-state+json": {
    "state": {},
    "version_major": 2,
    "version_minor": 0
   }
  }
 },
 "nbformat": 4,
 "nbformat_minor": 4
}
