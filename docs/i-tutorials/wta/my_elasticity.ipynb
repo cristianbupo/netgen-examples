{
 "cells": [
  {
   "cell_type": "markdown",
   "metadata": {},
   "source": [
    "# Linear elasticity: 2D cantilever under tip traction (plane strain)\n"
   ]
  },
  {
   "cell_type": "code",
   "execution_count": 1,
   "metadata": {},
   "outputs": [],
   "source": [
    "from ngsolve import *\n",
    "from ngsolve.webgui import Draw\n",
    "from netgen.occ import *"
   ]
  },
  {
   "cell_type": "markdown",
   "metadata": {},
   "source": [
    " Geometry & mesh (rectangle with named sides)"
   ]
  },
  {
   "cell_type": "code",
   "execution_count": 2,
   "metadata": {},
   "outputs": [],
   "source": [
    "shape = Rectangle(1.0, 1.0).Face()\n",
    "shape.edges.Max(X).name = \"right\"\n",
    "shape.edges.Min(X).name = \"left\"\n",
    "shape.edges.Max(Y).name = \"top\"\n",
    "shape.edges.Min(Y).name = \"bottom\"\n",
    "mesh = Mesh(OCCGeometry(shape, dim=2).GenerateMesh(maxh=0.04))"
   ]
  },
  {
   "cell_type": "markdown",
   "metadata": {},
   "source": [
    "Material (E, nu)"
   ]
  },
  {
   "cell_type": "code",
   "execution_count": 3,
   "metadata": {},
   "outputs": [],
   "source": [
    "E, nu = 1.0, 0.20 \n",
    "mu  = E/(2*(1+nu))\n",
    "lam = E*nu/((1+nu)*(1-2*nu))    # 3D Lamé (plane strain default)\n",
    "\n",
    "plane_stress = False\n",
    "lam_eff = (2*mu*nu/(1-nu)) if plane_stress else lam\n"
   ]
  },
  {
   "cell_type": "markdown",
   "metadata": {},
   "source": [
    "FE space (component-wise Dirichlet via a product space)"
   ]
  },
  {
   "cell_type": "code",
   "execution_count": 4,
   "metadata": {},
   "outputs": [],
   "source": [
    "Vx = H1(mesh, order=2, dirichlet=\"left\")     # only x-component fixed on 'left'\n",
    "Vy = H1(mesh, order=2, dirichlet=\"bottom\")   # only y-component fixed on 'bottom'\n",
    "X  = Vx * Vy\n",
    "(ux, uy), (vx, vy) = X.TnT()"
   ]
  },
  {
   "cell_type": "markdown",
   "metadata": {},
   "source": [
    "Kinematics & constitutive law"
   ]
  },
  {
   "cell_type": "code",
   "execution_count": 5,
   "metadata": {},
   "outputs": [],
   "source": [
    "def eps_2D(ux, uy):\n",
    "    exx = grad(ux)[0]\n",
    "    eyy = grad(uy)[1]\n",
    "    exy = 0.5*(grad(ux)[1] + grad(uy)[0])\n",
    "    return CoefficientFunction((exx, exy,   # row 0: [exx, exy]\n",
    "                                exy, eyy),  # row 1: [exy, eyy]\n",
    "                               dims=(2,2))\n",
    "\n",
    "def sigma_2D(ux, uy):\n",
    "    e  = eps_2D(ux, uy)\n",
    "    tr = grad(ux)[0] + grad(uy)[1]           # exx + eyy\n",
    "    return 2*mu*e + lam_eff*tr*Id(2)\n"
   ]
  },
  {
   "cell_type": "markdown",
   "metadata": {},
   "source": [
    "Forms: a(u,v) and f(v)"
   ]
  },
  {
   "cell_type": "code",
   "execution_count": null,
   "metadata": {},
   "outputs": [],
   "source": [
    "a = BilinearForm(X, symmetric=True)\n",
    "a += InnerProduct(sigma_2D(ux, uy), eps_2D(vx, vy)) * dx"
   ]
  },
  {
   "cell_type": "markdown",
   "metadata": {},
   "source": [
    "Uniform upward traction on the right edge (adjust as you like)"
   ]
  },
  {
   "cell_type": "code",
   "execution_count": 7,
   "metadata": {},
   "outputs": [],
   "source": [
    "t = CoefficientFunction((1.0, 0.0))\n",
    "f = LinearForm(X)\n",
    "f += InnerProduct(t, CoefficientFunction((vx, vy))) * ds(\"right\")"
   ]
  },
  {
   "cell_type": "markdown",
   "metadata": {},
   "source": [
    "Solve"
   ]
  },
  {
   "cell_type": "code",
   "execution_count": null,
   "metadata": {},
   "outputs": [],
   "source": [
    "with TaskManager():\n",
    "    a.Assemble(); f.Assemble()\n",
    "    gfu = GridFunction(X)\n",
    "    gfu.vec.data = a.mat.Inverse(X.FreeDofs()) * f.vec"
   ]
  },
  {
   "cell_type": "markdown",
   "metadata": {},
   "source": [
    "Compute stress tensor and Von Mises stress for 2D (plane strain/stress)"
   ]
  },
  {
   "cell_type": "code",
   "execution_count": 9,
   "metadata": {},
   "outputs": [],
   "source": [
    "uh = CoefficientFunction((gfu.components[0], gfu.components[1]))\n",
    "s = sigma_2D(uh[0], uh[1])\n",
    "von_mises = sqrt(s[0,0]**2 + s[1,1]**2 - s[0,0]*s[1,1] + 3*s[0,1]**2)"
   ]
  },
  {
   "cell_type": "markdown",
   "metadata": {},
   "source": [
    " Visualize displacement & Von Mises stress"
   ]
  },
  {
   "cell_type": "code",
   "execution_count": 10,
   "metadata": {},
   "outputs": [
    {
     "data": {
      "application/vnd.jupyter.widget-view+json": {
       "model_id": "ecbf70aff2a64c009ff163570539a630",
       "version_major": 2,
       "version_minor": 0
      },
      "text/plain": [
       "WebGuiWidget(layout=Layout(height='500px', width='100%'), value={'gui_settings': {}, 'ngsolve_version': '6.2.2…"
      ]
     },
     "metadata": {},
     "output_type": "display_data"
    },
    {
     "data": {
      "application/vnd.jupyter.widget-view+json": {
       "model_id": "fb84dfd80db445ef99513c3aaebaa1af",
       "version_major": 2,
       "version_minor": 0
      },
      "text/plain": [
       "WebGuiWidget(layout=Layout(height='500px', width='100%'), value={'gui_settings': {}, 'ngsolve_version': '6.2.2…"
      ]
     },
     "metadata": {},
     "output_type": "display_data"
    },
    {
     "data": {
      "text/plain": [
       "BaseWebGuiScene"
      ]
     },
     "execution_count": 10,
     "metadata": {},
     "output_type": "execute_result"
    }
   ],
   "source": [
    "uh = CoefficientFunction((gfu.components[0], gfu.components[1]))\n",
    "norm_u = Norm(uh)\n",
    "Draw(norm_u, mesh, \"||u||\", deformation=uh)\n",
    "Draw(von_mises, mesh, \"von Mises\", deformation=uh)"
   ]
  },
  {
   "cell_type": "code",
   "execution_count": 11,
   "metadata": {},
   "outputs": [],
   "source": [
    "vtk = VTKOutput(mesh, coefs=[norm_u, von_mises], names=[\"norm_u\", \"von_mises\"], filename=\"elastic_lin\").Do()"
   ]
  },
  {
   "cell_type": "code",
   "execution_count": 12,
   "metadata": {},
   "outputs": [
    {
     "data": {
      "application/vnd.jupyter.widget-view+json": {
       "model_id": "f7b5387efdd449eab6c05f445d4c2efd",
       "version_major": 2,
       "version_minor": 0
      },
      "text/plain": [
       "EmbeddableWidget(value='<iframe srcdoc=\"<!DOCTYPE html>\\n<html>\\n  <head>\\n    <meta http-equiv=&quot;Content-…"
      ]
     },
     "metadata": {},
     "output_type": "display_data"
    },
    {
     "data": {
      "application/vnd.jupyter.widget-view+json": {
       "model_id": "e283296dc5b84302861c7f2170bf575b",
       "version_major": 2,
       "version_minor": 0
      },
      "text/plain": [
       "EmbeddableWidget(value='<iframe srcdoc=\"<!DOCTYPE html>\\n<html>\\n  <head>\\n    <meta http-equiv=&quot;Content-…"
      ]
     },
     "metadata": {},
     "output_type": "display_data"
    }
   ],
   "source": [
    "import pyvista as pv\n",
    "\n",
    "pv.set_jupyter_backend('html')\n",
    "visobj = pv.read('elastic_lin.vtu')\n",
    "\n",
    "visobj.plot(scalars=\"norm_u\", cpos=\"xy\")\n",
    "visobj.plot(scalars=\"von_mises\", cpos=\"xy\")"
   ]
  }
 ],
 "metadata": {
  "kernelspec": {
   "display_name": "fcenv",
   "language": "python",
   "name": "python3"
  },
  "language_info": {
   "codemirror_mode": {
    "name": "ipython",
    "version": 3
   },
   "file_extension": ".py",
   "mimetype": "text/x-python",
   "name": "python",
   "nbconvert_exporter": "python",
   "pygments_lexer": "ipython3",
   "version": "3.12.3"
  },
  "widgets": {
   "application/vnd.jupyter.widget-state+json": {
    "state": {},
    "version_major": 2,
    "version_minor": 0
   }
  }
 },
 "nbformat": 4,
 "nbformat_minor": 4
}
