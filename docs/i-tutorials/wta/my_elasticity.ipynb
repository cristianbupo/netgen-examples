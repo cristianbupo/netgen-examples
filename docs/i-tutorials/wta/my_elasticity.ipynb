{
 "cells": [
  {
   "cell_type": "markdown",
   "metadata": {},
   "source": [
    "# Solving nonlinear Elasticity"
   ]
  },
  {
   "cell_type": "code",
   "execution_count": 1,
   "metadata": {},
   "outputs": [],
   "source": [
    "from ngsolve import *\n",
    "from ngsolve.webgui import Draw"
   ]
  },
  {
   "cell_type": "markdown",
   "metadata": {},
   "source": [
    "a rectangle with refinement at corners:"
   ]
  },
  {
   "cell_type": "code",
   "execution_count": 2,
   "metadata": {},
   "outputs": [],
   "source": [
    "from netgen.occ import *\n",
    "shape = Rectangle(1,0.1).Face()\n",
    "shape.edges.Max(X).name=\"right\"\n",
    "shape.edges.Min(X).name=\"left\"\n",
    "shape.edges.Max(Y).name=\"top\"\n",
    "shape.edges.Min(Y).name=\"bot\"\n",
    "shape.vertices.Min(X+Y).maxh=0.01\n",
    "shape.vertices.Min(X-Y).maxh=0.01\n",
    "mesh = Mesh(OCCGeometry(shape, dim=2).GenerateMesh(maxh=0.05))"
   ]
  },
  {
   "cell_type": "markdown",
   "metadata": {},
   "source": [
    "Cauchy-Green tensor\n",
    "\n",
    "$$\n",
    "C = F^T F \\qquad \\text{with} \\qquad F = I + \\nabla u\n",
    "$$\n",
    "\n",
    "and hyperelastic energy density\n",
    "\n",
    "$$\n",
    "W : {\\mathbb R}^{d \\times d, sym} \\rightarrow {\\mathbb R}\n",
    "$$"
   ]
  },
  {
   "cell_type": "code",
   "execution_count": 3,
   "metadata": {},
   "outputs": [],
   "source": [
    "E, nu = 210, 0.2\n",
    "mu  = E / 2 / (1+nu)\n",
    "lam = E * nu / ((1+nu)*(1-2*nu))\n",
    "\n",
    "def C(u):\n",
    "    F = Id(2) + Grad(u)\n",
    "    return F.trans * F\n",
    "\n",
    "def NeoHooke (C):\n",
    "    return 0.5*mu*(Trace(C-Id(2)) + 2*mu/lam*Det(C)**(-lam/2/mu)-1)"
   ]
  },
  {
   "cell_type": "markdown",
   "metadata": {},
   "source": [
    "stationary point of total energy:\n",
    "\n",
    "$$\n",
    "\\delta \\int W(C(u)) - f u = 0\n",
    "$$"
   ]
  },
  {
   "cell_type": "code",
   "execution_count": 4,
   "metadata": {},
   "outputs": [],
   "source": [
    "factor = Parameter(0)\n",
    "force = CoefficientFunction( (0,factor) )\n",
    "\n",
    "fes = H1(mesh, order=4, dirichlet=\"left\", dim=mesh.dim)\n",
    "u  = fes.TrialFunction()\n",
    "\n",
    "a = BilinearForm(fes, symmetric=True)\n",
    "a += Variation(NeoHooke(C(u)).Compile()*dx)\n",
    "a += Variation((-InnerProduct(force,u)).Compile()*dx)\n",
    "\n",
    "gfu = GridFunction(fes)\n",
    "gfu.vec[:] = 0"
   ]
  },
  {
   "cell_type": "markdown",
   "metadata": {},
   "source": [
    "The `Variation` function declares that the non-linear form is the derivative of the energy."
   ]
  },
  {
   "cell_type": "markdown",
   "metadata": {},
   "source": [
    "a simple Newton solver, using automatic differentiation for residual and tangential stiffness:"
   ]
  },
  {
   "cell_type": "code",
   "execution_count": 5,
   "metadata": {},
   "outputs": [],
   "source": [
    "def SolveNewton(printrates=False):\n",
    "    for it in range(10):\n",
    "        if (printrates):\n",
    "            print (\"it\", it, \"energy = \", a.Energy(gfu.vec))\n",
    "        res = a.Apply(gfu.vec)\n",
    "        a.AssembleLinearization(gfu.vec)\n",
    "        inv = a.mat.Inverse(fes.FreeDofs() ) \n",
    "        gfu.vec.data -= inv*res"
   ]
  },
  {
   "cell_type": "code",
   "execution_count": 6,
   "metadata": {},
   "outputs": [
    {
     "name": "stdout",
     "output_type": "stream",
     "text": [
      "it 0 energy =  8.74999999999997\n",
      "it 1 energy =  8.811175559205962\n",
      "it 2 energy =  8.748116767882797\n",
      "it 3 energy =  8.747829234525453\n",
      "it 4 energy =  8.747829153671923\n",
      "it 5 energy =  8.747829153657277\n",
      "it 6 energy =  8.747829153657273\n",
      "it 7 energy =  8.747829153657273\n",
      "it 8 energy =  8.747829153657273\n",
      "it 9 energy =  8.747829153657273\n"
     ]
    },
    {
     "data": {
      "application/vnd.jupyter.widget-view+json": {
       "model_id": "1baa1206f83e4e2f96d24f1462221e98",
       "version_major": 2,
       "version_minor": 0
      },
      "text/plain": [
       "WebGuiWidget(layout=Layout(height='500px', width='100%'), value={'gui_settings': {}, 'ngsolve_version': '6.2.2…"
      ]
     },
     "metadata": {},
     "output_type": "display_data"
    }
   ],
   "source": [
    "factor.Set(0.4)\n",
    "SolveNewton(printrates=True)\n",
    "scene = Draw (C(gfu)[0,0]-1, mesh, deformation=gfu, min=-0.1, max=0.1)"
   ]
  },
  {
   "cell_type": "markdown",
   "metadata": {},
   "source": [
    "Often, we don't have a good starting value for Newton's method. This can be overcome by increasing the load step by step (assuming the solution depends continuously on the loading). The solution of the previous load-step is the initial guess for the next step.  "
   ]
  },
  {
   "cell_type": "code",
   "execution_count": 7,
   "metadata": {},
   "outputs": [
    {
     "data": {
      "application/vnd.jupyter.widget-view+json": {
       "model_id": "bff3aa36edcc4211a2dbfd89e8781ee1",
       "version_major": 2,
       "version_minor": 0
      },
      "text/plain": [
       "WebGuiWidget(layout=Layout(height='500px', width='100%'), value={'gui_settings': {}, 'ngsolve_version': '6.2.2…"
      ]
     },
     "metadata": {},
     "output_type": "display_data"
    },
    {
     "data": {
      "application/vnd.jupyter.widget-view+json": {
       "model_id": "c96b34756ee644a6a0d8183795cfab7a",
       "version_major": 2,
       "version_minor": 0
      },
      "text/plain": [
       "WebGuiWidget(layout=Layout(height='500px', width='100%'), value={'gui_settings': {}, 'ngsolve_version': '6.2.2…"
      ]
     },
     "metadata": {},
     "output_type": "display_data"
    },
    {
     "data": {
      "application/vnd.jupyter.widget-view+json": {
       "model_id": "68b89469ecaa4f7cb0bd1fb0440fdb70",
       "version_major": 2,
       "version_minor": 0
      },
      "text/plain": [
       "WebGuiWidget(layout=Layout(height='500px', width='100%'), value={'gui_settings': {}, 'ngsolve_version': '6.2.2…"
      ]
     },
     "metadata": {},
     "output_type": "display_data"
    },
    {
     "data": {
      "application/vnd.jupyter.widget-view+json": {
       "model_id": "0538b01167584527b5fa4610cb5b872f",
       "version_major": 2,
       "version_minor": 0
      },
      "text/plain": [
       "WebGuiWidget(layout=Layout(height='500px', width='100%'), value={'gui_settings': {}, 'ngsolve_version': '6.2.2…"
      ]
     },
     "metadata": {},
     "output_type": "display_data"
    },
    {
     "data": {
      "application/vnd.jupyter.widget-view+json": {
       "model_id": "8dfa68688a994b399901c7302f113c82",
       "version_major": 2,
       "version_minor": 0
      },
      "text/plain": [
       "WebGuiWidget(layout=Layout(height='500px', width='100%'), value={'gui_settings': {}, 'ngsolve_version': '6.2.2…"
      ]
     },
     "metadata": {},
     "output_type": "display_data"
    }
   ],
   "source": [
    "numsteps = 5\n",
    "maxload = 2\n",
    "for ls in range (numsteps):\n",
    "    factor.Set(maxload*(ls+1)/numsteps)\n",
    "    SolveNewton()\n",
    "    Draw (C(gfu)[0,0]-1, mesh, deformation=gfu, min=-0.2, max=0.2)"
   ]
  },
  {
   "cell_type": "markdown",
   "metadata": {},
   "source": [
    "## Stress tensor\n",
    "\n",
    "Compute $2^{nd}$ Piola Kirchhoff stress tensor by symbolic differentiation:\n",
    "\n",
    "$$\n",
    "\\Sigma_{i,j} = \\frac{\\partial W}{\\partial C_{i,j}} (C)\n",
    "$$"
   ]
  },
  {
   "cell_type": "code",
   "execution_count": 8,
   "metadata": {},
   "outputs": [
    {
     "data": {
      "application/vnd.jupyter.widget-view+json": {
       "model_id": "66966b61ef644da4b044a0156b892d3f",
       "version_major": 2,
       "version_minor": 0
      },
      "text/plain": [
       "WebGuiWidget(layout=Layout(height='500px', width='100%'), value={'gui_settings': {}, 'ngsolve_version': '6.2.2…"
      ]
     },
     "metadata": {},
     "output_type": "display_data"
    }
   ],
   "source": [
    "C_=C(gfu).MakeVariable()\n",
    "sigma = NeoHooke(C_).Diff(C_)\n",
    "\n",
    "Draw (sigma[0,0], mesh, \"Sxx\", deformation=gfu, min=-10.001, max=10.001); "
   ]
  },
  {
   "cell_type": "markdown",
   "metadata": {},
   "source": [
    "The energy functional is represented as an expression tree:"
   ]
  },
  {
   "cell_type": "code",
   "execution_count": 9,
   "metadata": {},
   "outputs": [
    {
     "name": "stdout",
     "output_type": "stream",
     "text": [
      "43.75*(coef binary operation '-', real\n",
      "  coef binary operation '+', real\n",
      "    coef trace, real\n",
      "      coef binary operation '-', real, dims = 2 x 2\n",
      "        coef matrix-matrix multiply, real, dims = 2 x 2\n",
      "          coef Matrix transpose, real, dims = 2 x 2\n",
      "            coef binary operation '+', real, dims = 2 x 2\n",
      "              coef Identity matrix, real, dims = 2 x 2\n",
      "              coef trial-function diffop = grad, real, dims = 2 x 2\n",
      "          coef binary operation '+', real, dims = 2 x 2\n",
      "            coef Identity matrix, real, dims = 2 x 2\n",
      "            coef trial-function diffop = grad, real, dims = 2 x 2\n",
      "        coef Identity matrix, real, dims = 2 x 2\n",
      "    coef scale 3, real\n",
      "      coef binary operation 'pow', real\n",
      "        coef binary operation '*', real\n",
      "          coef Determinant, real\n",
      "            coef binary operation '+', real, dims = 2 x 2\n",
      "              coef Identity matrix, real, dims = 2 x 2\n",
      "              coef trial-function diffop = grad, real, dims = 2 x 2\n",
      "          coef Determinant, real\n",
      "            coef binary operation '+', real, dims = 2 x 2\n",
      "              coef Identity matrix, real, dims = 2 x 2\n",
      "              coef trial-function diffop = grad, real, dims = 2 x 2\n",
      "        coef -0.333333, real\n",
      "  coef 1, real\n",
      ")\n"
     ]
    }
   ],
   "source": [
    "u  = fes.TrialFunction()\n",
    "print (NeoHooke(C(u)))"
   ]
  },
  {
   "cell_type": "markdown",
   "metadata": {},
   "source": [
    "With the `Compile` method, the tree is linearized, and common sub-expressions are merged:"
   ]
  },
  {
   "cell_type": "code",
   "execution_count": 10,
   "metadata": {},
   "outputs": [
    {
     "name": "stdout",
     "output_type": "stream",
     "text": [
      "Compiled CF:\n",
      "Step 0: Identity matrix, dims = 2 x 2\n",
      "Step 1: trial-function diffop = grad, dims = 2 x 2\n",
      "Step 2: binary operation '+', dims = 2 x 2\n",
      "     input: 0 1 \n",
      "Step 3: Matrix transpose, dims = 2 x 2\n",
      "     input: 2 \n",
      "Step 4: matrix-matrix multiply, dims = 2 x 2\n",
      "     input: 3 2 \n",
      "Step 5: Identity matrix, dims = 2 x 2\n",
      "Step 6: binary operation '-', dims = 2 x 2\n",
      "     input: 4 5 \n",
      "Step 7: trace\n",
      "     input: 6 \n",
      "Step 8: Determinant\n",
      "     input: 2 \n",
      "Step 9: binary operation '*'\n",
      "     input: 8 8 \n",
      "Step 10: -0.333333\n",
      "Step 11: binary operation 'pow'\n",
      "     input: 9 10 \n",
      "Step 12: scale 3\n",
      "     input: 11 \n",
      "Step 13: binary operation '+'\n",
      "     input: 7 12 \n",
      "Step 14: 1\n",
      "Step 15: binary operation '-'\n",
      "     input: 13 14 \n",
      "Step 16: scale 43.75\n",
      "     input: 15 \n",
      "\n"
     ]
    }
   ],
   "source": [
    "print (NeoHooke(C(u)).Compile())"
   ]
  },
  {
   "cell_type": "code",
   "execution_count": 11,
   "metadata": {},
   "outputs": [
    {
     "name": "stdout",
     "output_type": "stream",
     "text": [
      "43.75*(coef binary operation '+', real, dims = 2 x 2\n",
      "  coef Identity matrix, real, dims = 2 x 2\n",
      "  coef scale 3, real, dims = 2 x 2\n",
      "    coef scalar-matrix multiply, real, dims = 2 x 2\n",
      "      coef unary operation 'exp', real\n",
      "        coef binary operation '*', real\n",
      "          coef -0.333333, real\n",
      "          coef unary operation 'log', real\n",
      "            coef Determinant, real\n",
      "              coef matrix-matrix multiply, real, dims = 2 x 2\n",
      "                coef Matrix transpose, real, dims = 2 x 2\n",
      "                  coef binary operation '+', real, dims = 2 x 2\n",
      "                    coef Identity matrix, real, dims = 2 x 2\n",
      "                    coef N6ngcomp31GridFunctionCoefficientFunctionE, real, dims = 2 x 2\n",
      "                coef binary operation '+', real, dims = 2 x 2\n",
      "                  coef Identity matrix, real, dims = 2 x 2\n",
      "                  coef N6ngcomp31GridFunctionCoefficientFunctionE, real, dims = 2 x 2\n",
      "      coef scalar-matrix multiply, real, dims = 2 x 2\n",
      "        coef -0.333333, real\n",
      "        coef scalar-matrix multiply, real, dims = 2 x 2\n",
      "          coef binary operation '/', real\n",
      "            coef 1, real\n",
      "            coef Determinant, real\n",
      "              coef matrix-matrix multiply, real, dims = 2 x 2\n",
      "                coef Matrix transpose, real, dims = 2 x 2\n",
      "                  coef binary operation '+', real, dims = 2 x 2\n",
      "                    coef Identity matrix, real, dims = 2 x 2\n",
      "                    coef N6ngcomp31GridFunctionCoefficientFunctionE, real, dims = 2 x 2\n",
      "                coef binary operation '+', real, dims = 2 x 2\n",
      "                  coef Identity matrix, real, dims = 2 x 2\n",
      "                  coef N6ngcomp31GridFunctionCoefficientFunctionE, real, dims = 2 x 2\n",
      "          coef cofactor, real, dims = 2 x 2\n",
      "            coef matrix-matrix multiply, real, dims = 2 x 2\n",
      "              coef Matrix transpose, real, dims = 2 x 2\n",
      "                coef binary operation '+', real, dims = 2 x 2\n",
      "                  coef Identity matrix, real, dims = 2 x 2\n",
      "                  coef N6ngcomp31GridFunctionCoefficientFunctionE, real, dims = 2 x 2\n",
      "              coef binary operation '+', real, dims = 2 x 2\n",
      "                coef Identity matrix, real, dims = 2 x 2\n",
      "                coef N6ngcomp31GridFunctionCoefficientFunctionE, real, dims = 2 x 2\n",
      ")\n"
     ]
    }
   ],
   "source": [
    "print (sigma)"
   ]
  },
  {
   "cell_type": "code",
   "execution_count": 12,
   "metadata": {},
   "outputs": [
    {
     "name": "stdout",
     "output_type": "stream",
     "text": [
      "Compiled CF:\n",
      "Step 0: Identity matrix, dims = 2 x 2\n",
      "Step 1: -0.333333\n",
      "Step 2: Identity matrix, dims = 2 x 2\n",
      "Step 3: N6ngcomp31GridFunctionCoefficientFunctionE, dims = 2 x 2\n",
      "Step 4: binary operation '+', dims = 2 x 2\n",
      "     input: 2 3 \n",
      "Step 5: Matrix transpose, dims = 2 x 2\n",
      "     input: 4 \n",
      "Step 6: matrix-matrix multiply, dims = 2 x 2\n",
      "     input: 5 4 \n",
      "Step 7: Determinant\n",
      "     input: 6 \n",
      "Step 8: unary operation 'log'\n",
      "     input: 7 \n",
      "Step 9: binary operation '*'\n",
      "     input: 1 8 \n",
      "Step 10: unary operation 'exp'\n",
      "     input: 9 \n",
      "Step 11: 1\n",
      "Step 12: binary operation '/'\n",
      "     input: 11 7 \n",
      "Step 13: cofactor, dims = 2 x 2\n",
      "     input: 6 \n",
      "Step 14: scalar-matrix multiply, dims = 2 x 2\n",
      "     input: 12 13 \n",
      "Step 15: scalar-matrix multiply, dims = 2 x 2\n",
      "     input: 1 14 \n",
      "Step 16: scalar-matrix multiply, dims = 2 x 2\n",
      "     input: 10 15 \n",
      "Step 17: scale 3, dims = 2 x 2\n",
      "     input: 16 \n",
      "Step 18: binary operation '+', dims = 2 x 2\n",
      "     input: 0 17 \n",
      "Step 19: scale 43.75, dims = 2 x 2\n",
      "     input: 18 \n",
      "\n"
     ]
    }
   ],
   "source": [
    "print (sigma.Compile())"
   ]
  }
 ],
 "metadata": {
  "kernelspec": {
   "display_name": "fcenv",
   "language": "python",
   "name": "python3"
  },
  "language_info": {
   "codemirror_mode": {
    "name": "ipython",
    "version": 3
   },
   "file_extension": ".py",
   "mimetype": "text/x-python",
   "name": "python",
   "nbconvert_exporter": "python",
   "pygments_lexer": "ipython3",
   "version": "3.12.3"
  },
  "widgets": {
   "application/vnd.jupyter.widget-state+json": {
    "state": {},
    "version_major": 2,
    "version_minor": 0
   }
  }
 },
 "nbformat": 4,
 "nbformat_minor": 4
}
