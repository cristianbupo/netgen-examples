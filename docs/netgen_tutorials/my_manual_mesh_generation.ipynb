{
 "cells": [
  {
   "cell_type": "markdown",
   "id": "cca81795",
   "metadata": {},
   "source": [
    "# Manual mesh generation\n",
    "\n",
    "In this example we create a mesh by hand, i.e. by prescribing all vertices, edges, faces and elements on our own. This example creates a structured grid for the unit square [0,1]x[0,1] using triangles or quadrilateral (choice via switch):\n",
    "\n",
    "We first include what we need from netgen:"
   ]
  },
  {
   "cell_type": "code",
   "execution_count": 1,
   "id": "52dceccf",
   "metadata": {},
   "outputs": [],
   "source": [
    "from netgen.geom2d import unit_square\n",
    "from netgen.meshing import Element1D, Element2D, MeshPoint, FaceDescriptor, Mesh\n",
    "from netgen.csg import Pnt\n",
    "from ngsolve.webgui import Draw\n",
    "import ngsolve"
   ]
  },
  {
   "cell_type": "markdown",
   "id": "d8c224c6",
   "metadata": {},
   "source": [
    "Next, we decide on the parameters for the mesh:"
   ]
  },
  {
   "cell_type": "code",
   "execution_count": 2,
   "id": "1786f1cd",
   "metadata": {},
   "outputs": [],
   "source": [
    "quads = True\n",
    "N=5"
   ]
  },
  {
   "cell_type": "markdown",
   "id": "714d65c4",
   "metadata": {},
   "source": [
    "We create an empty mesh and initialize the geometry and the dimension:"
   ]
  },
  {
   "cell_type": "code",
   "execution_count": 3,
   "id": "1f2f8473",
   "metadata": {},
   "outputs": [],
   "source": [
    "mesh = Mesh()\n",
    "mesh.SetGeometry(unit_square)\n",
    "mesh.dim = 2"
   ]
  },
  {
   "cell_type": "markdown",
   "id": "ba49aa09",
   "metadata": {},
   "source": [
    "Then, we add all mesh points that we will need for the final mesh. Note that these MeshPoints are added to the mesh with 'mesh.Add(..)' which return the point index. This index is then stored in the array 'pnums'. In our case we have the simple structure that we will have (N+1)*(N+1) points in total."
   ]
  },
  {
   "cell_type": "code",
   "execution_count": 4,
   "id": "16609775",
   "metadata": {},
   "outputs": [],
   "source": [
    "pnums = []\n",
    "for i in range(N + 1):\n",
    "    for j in range(N + 1):\n",
    "        pnums.append(mesh.Add(MeshPoint(Pnt(i / N, j / N, 0))))"
   ]
  },
  {
   "cell_type": "markdown",
   "id": "cbba1db1",
   "metadata": {},
   "source": [
    "Next, we add the area elements. Between four neighboring points we either span a quadrilateral (if quads==True) or divide the area into two triangle. These are then simply added to the mesh:"
   ]
  },
  {
   "cell_type": "code",
   "execution_count": 5,
   "id": "f60618e8",
   "metadata": {},
   "outputs": [],
   "source": [
    "mesh.SetMaterial(1, \"mat\")\n",
    "\n",
    "# Add FaceDescriptor first and get its number\n",
    "fd = mesh.Add(FaceDescriptor(surfnr=1,domin=1,bc=1))\n",
    "\n",
    "for j in range(N):\n",
    "    for i in range(N):\n",
    "        if quads:\n",
    "            mesh.Add(Element2D(fd, [pnums[i + j * (N + 1)], pnums[i + (j + 1) * (N + 1)], pnums[i + 1 + (j + 1) * (N + 1)], pnums[i + 1 + j * (N + 1)]]))\n",
    "        else:\n",
    "            mesh.Add(Element2D(fd, [pnums[i + j * (N + 1)], pnums[i + (j + 1) * (N + 1)], pnums[i + 1 + j * (N + 1)]]))\n",
    "            mesh.Add(Element2D(fd, [pnums[i + (j + 1) * (N + 1)], pnums[i + 1 + (j + 1) * (N + 1)], pnums[i + 1 + j * (N + 1)]]))"
   ]
  },
  {
   "cell_type": "markdown",
   "id": "fe87f65e",
   "metadata": {},
   "source": [
    "Now, we have to add boundary elements and boundary conditions. Therefore we add a FaceDescriptor:"
   ]
  },
  {
   "cell_type": "code",
   "execution_count": 6,
   "id": "432e46df",
   "metadata": {},
   "outputs": [],
   "source": [
    "for i in range(N):\n",
    "   mesh.Add(Element1D([pnums[N + i * (N + 1)], pnums[N + (i + 1) * (N + 1)]], index=1))\n",
    "   mesh.Add(Element1D([pnums[0 + i * (N + 1)], pnums[0 + (i + 1) * (N + 1)]], index=1))"
   ]
  },
  {
   "cell_type": "markdown",
   "id": "5f1b7a32",
   "metadata": {},
   "source": [
    "followed by the horizontal boundary elements"
   ]
  },
  {
   "cell_type": "code",
   "execution_count": 7,
   "id": "8a6f8321",
   "metadata": {},
   "outputs": [],
   "source": [
    "for i in range(N):\n",
    "   mesh.Add(Element1D([pnums[i], pnums[i + 1]], index=1))\n",
    "   mesh.Add(Element1D([pnums[i + N * (N + 1)], pnums[i + 1 + N * (N + 1)]], index=1))"
   ]
  },
  {
   "cell_type": "markdown",
   "id": "fcae480b",
   "metadata": {},
   "source": [
    "and the vertical boundary elements:"
   ]
  },
  {
   "cell_type": "code",
   "execution_count": 8,
   "id": "5813a621",
   "metadata": {},
   "outputs": [
    {
     "data": {
      "application/vnd.jupyter.widget-view+json": {
       "model_id": "177ce5c1d8d64a1a83cc7eec33e7fd77",
       "version_major": 2,
       "version_minor": 0
      },
      "text/plain": [
       "WebGuiWidget(layout=Layout(height='500px', width='100%'), value={'gui_settings': {}, 'ngsolve_version': '6.2.2…"
      ]
     },
     "metadata": {},
     "output_type": "display_data"
    },
    {
     "data": {
      "text/plain": [
       "BaseWebGuiScene"
      ]
     },
     "execution_count": 8,
     "metadata": {},
     "output_type": "execute_result"
    }
   ],
   "source": [
    "mesh = ngsolve.Mesh(mesh)\n",
    "Draw(mesh)"
   ]
  },
  {
   "cell_type": "markdown",
   "id": "6e083f06",
   "metadata": {},
   "source": [
    "This, together results in a valid mesh. Note that we have chosen boundary condition bc=1 on all boundaries."
   ]
  }
 ],
 "metadata": {
  "kernelspec": {
   "display_name": "fcenv",
   "language": "python",
   "name": "python3"
  },
  "language_info": {
   "codemirror_mode": {
    "name": "ipython",
    "version": 3
   },
   "file_extension": ".py",
   "mimetype": "text/x-python",
   "name": "python",
   "nbconvert_exporter": "python",
   "pygments_lexer": "ipython3",
   "version": "3.12.3"
  }
 },
 "nbformat": 4,
 "nbformat_minor": 5
}
