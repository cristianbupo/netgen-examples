{
 "cells": [
  {
   "cell_type": "markdown",
   "metadata": {},
   "source": [
    "# VTK Output for 3D (and 2D) Visualization\n",
    "\n",
    "Besides the convenient visualizations of the Netgen GUI and the NGSolve webgui, we can also use the VTK output for 3D visualization. \n",
    "\n",
    "This is particularly useful for polished visualizations of 3D simulations where you want to apply several filters to the visualization, e.g. to show the solution on a slice of the domain, or to show the solution as a surface plot and possibly combine these things. "
   ]
  },
  {
   "cell_type": "markdown",
   "metadata": {},
   "source": [
    "## Setup dependencies\n",
    "\n",
    "In this unit we will use `pyvista` to visualize the VTK output and we will need `vtk` as well. You can install these packages via pip in your terminal (or a virtual env.):\n",
    "\n",
    "```bash\n",
    "pip3 install pyvista vtk ipywidgets trame trame-vtk trame-vuetify --break-system-packages --upgrade\n",
    "```\n",
    "or execute the following cell:"
   ]
  },
  {
   "cell_type": "code",
   "execution_count": 31,
   "metadata": {},
   "outputs": [
    {
     "name": "stdout",
     "output_type": "stream",
     "text": [
      "Requirement already satisfied: pyvista in /home/crist/.venvs/fcenv/lib/python3.12/site-packages (0.46.1)\n",
      "Requirement already satisfied: vtk in /home/crist/.venvs/fcenv/lib/python3.12/site-packages (9.5.0)\n",
      "Requirement already satisfied: ipywidgets in /home/crist/.venvs/fcenv/lib/python3.12/site-packages (8.1.7)\n",
      "Requirement already satisfied: trame in /home/crist/.venvs/fcenv/lib/python3.12/site-packages (3.11.0)\n",
      "Requirement already satisfied: trame-vtk in /home/crist/.venvs/fcenv/lib/python3.12/site-packages (2.9.1)\n",
      "Requirement already satisfied: trame-vuetify in /home/crist/.venvs/fcenv/lib/python3.12/site-packages (3.0.2)\n",
      "Requirement already satisfied: matplotlib>=3.0.1 in /home/crist/.venvs/fcenv/lib/python3.12/site-packages (from pyvista) (3.10.5)\n",
      "Requirement already satisfied: numpy>=1.21.0 in /home/crist/.venvs/fcenv/lib/python3.12/site-packages (from pyvista) (2.3.2)\n",
      "Requirement already satisfied: pillow in /home/crist/.venvs/fcenv/lib/python3.12/site-packages (from pyvista) (11.3.0)\n",
      "Requirement already satisfied: pooch in /home/crist/.venvs/fcenv/lib/python3.12/site-packages (from pyvista) (1.8.2)\n",
      "Requirement already satisfied: scooby>=0.5.1 in /home/crist/.venvs/fcenv/lib/python3.12/site-packages (from pyvista) (0.10.1)\n",
      "Requirement already satisfied: typing-extensions>=4.10 in /home/crist/.venvs/fcenv/lib/python3.12/site-packages (from pyvista) (4.14.1)\n",
      "Requirement already satisfied: comm>=0.1.3 in /home/crist/.venvs/fcenv/lib/python3.12/site-packages (from ipywidgets) (0.2.3)\n",
      "Requirement already satisfied: ipython>=6.1.0 in /home/crist/.venvs/fcenv/lib/python3.12/site-packages (from ipywidgets) (9.4.0)\n",
      "Requirement already satisfied: traitlets>=4.3.1 in /home/crist/.venvs/fcenv/lib/python3.12/site-packages (from ipywidgets) (5.14.3)\n",
      "Requirement already satisfied: widgetsnbextension~=4.0.14 in /home/crist/.venvs/fcenv/lib/python3.12/site-packages (from ipywidgets) (4.0.14)\n",
      "Requirement already satisfied: jupyterlab_widgets~=3.0.15 in /home/crist/.venvs/fcenv/lib/python3.12/site-packages (from ipywidgets) (3.0.15)\n",
      "Requirement already satisfied: trame-server<4,>=3.4 in /home/crist/.venvs/fcenv/lib/python3.12/site-packages (from trame) (3.6.0)\n",
      "Requirement already satisfied: trame-client<4,>=3.8 in /home/crist/.venvs/fcenv/lib/python3.12/site-packages (from trame) (3.9.2)\n",
      "Requirement already satisfied: trame-common<2,>=1 in /home/crist/.venvs/fcenv/lib/python3.12/site-packages (from trame) (1.0.1)\n",
      "Requirement already satisfied: wslink>=2.3.3 in /home/crist/.venvs/fcenv/lib/python3.12/site-packages (from trame) (2.3.4)\n",
      "Requirement already satisfied: pyyaml in /home/crist/.venvs/fcenv/lib/python3.12/site-packages (from trame) (6.0.2)\n",
      "Requirement already satisfied: decorator in /home/crist/.venvs/fcenv/lib/python3.12/site-packages (from ipython>=6.1.0->ipywidgets) (5.2.1)\n",
      "Requirement already satisfied: ipython-pygments-lexers in /home/crist/.venvs/fcenv/lib/python3.12/site-packages (from ipython>=6.1.0->ipywidgets) (1.1.1)\n",
      "Requirement already satisfied: jedi>=0.16 in /home/crist/.venvs/fcenv/lib/python3.12/site-packages (from ipython>=6.1.0->ipywidgets) (0.19.2)\n",
      "Requirement already satisfied: matplotlib-inline in /home/crist/.venvs/fcenv/lib/python3.12/site-packages (from ipython>=6.1.0->ipywidgets) (0.1.7)\n",
      "Requirement already satisfied: pexpect>4.3 in /home/crist/.venvs/fcenv/lib/python3.12/site-packages (from ipython>=6.1.0->ipywidgets) (4.9.0)\n",
      "Requirement already satisfied: prompt_toolkit<3.1.0,>=3.0.41 in /home/crist/.venvs/fcenv/lib/python3.12/site-packages (from ipython>=6.1.0->ipywidgets) (3.0.51)\n",
      "Requirement already satisfied: pygments>=2.4.0 in /home/crist/.venvs/fcenv/lib/python3.12/site-packages (from ipython>=6.1.0->ipywidgets) (2.19.2)\n",
      "Requirement already satisfied: stack_data in /home/crist/.venvs/fcenv/lib/python3.12/site-packages (from ipython>=6.1.0->ipywidgets) (0.6.3)\n",
      "Requirement already satisfied: contourpy>=1.0.1 in /home/crist/.venvs/fcenv/lib/python3.12/site-packages (from matplotlib>=3.0.1->pyvista) (1.3.3)\n",
      "Requirement already satisfied: cycler>=0.10 in /home/crist/.venvs/fcenv/lib/python3.12/site-packages (from matplotlib>=3.0.1->pyvista) (0.12.1)\n",
      "Requirement already satisfied: fonttools>=4.22.0 in /home/crist/.venvs/fcenv/lib/python3.12/site-packages (from matplotlib>=3.0.1->pyvista) (4.59.0)\n",
      "Requirement already satisfied: kiwisolver>=1.3.1 in /home/crist/.venvs/fcenv/lib/python3.12/site-packages (from matplotlib>=3.0.1->pyvista) (1.4.8)\n",
      "Requirement already satisfied: packaging>=20.0 in /home/crist/.venvs/fcenv/lib/python3.12/site-packages (from matplotlib>=3.0.1->pyvista) (25.0)\n",
      "Requirement already satisfied: pyparsing>=2.3.1 in /home/crist/.venvs/fcenv/lib/python3.12/site-packages (from matplotlib>=3.0.1->pyvista) (3.2.3)\n",
      "Requirement already satisfied: python-dateutil>=2.7 in /home/crist/.venvs/fcenv/lib/python3.12/site-packages (from matplotlib>=3.0.1->pyvista) (2.9.0.post0)\n",
      "Requirement already satisfied: more-itertools in /home/crist/.venvs/fcenv/lib/python3.12/site-packages (from trame-server<4,>=3.4->trame) (10.7.0)\n",
      "Requirement already satisfied: aiohttp<4 in /home/crist/.venvs/fcenv/lib/python3.12/site-packages (from wslink>=2.3.3->trame) (3.12.15)\n",
      "Requirement already satisfied: msgpack<2,>=1 in /home/crist/.venvs/fcenv/lib/python3.12/site-packages (from wslink>=2.3.3->trame) (1.1.1)\n",
      "Requirement already satisfied: platformdirs>=2.5.0 in /home/crist/.venvs/fcenv/lib/python3.12/site-packages (from pooch->pyvista) (4.3.8)\n",
      "Requirement already satisfied: requests>=2.19.0 in /home/crist/.venvs/fcenv/lib/python3.12/site-packages (from pooch->pyvista) (2.32.4)\n",
      "Requirement already satisfied: aiohappyeyeballs>=2.5.0 in /home/crist/.venvs/fcenv/lib/python3.12/site-packages (from aiohttp<4->wslink>=2.3.3->trame) (2.6.1)\n",
      "Requirement already satisfied: aiosignal>=1.4.0 in /home/crist/.venvs/fcenv/lib/python3.12/site-packages (from aiohttp<4->wslink>=2.3.3->trame) (1.4.0)\n",
      "Requirement already satisfied: attrs>=17.3.0 in /home/crist/.venvs/fcenv/lib/python3.12/site-packages (from aiohttp<4->wslink>=2.3.3->trame) (25.3.0)\n",
      "Requirement already satisfied: frozenlist>=1.1.1 in /home/crist/.venvs/fcenv/lib/python3.12/site-packages (from aiohttp<4->wslink>=2.3.3->trame) (1.7.0)\n",
      "Requirement already satisfied: multidict<7.0,>=4.5 in /home/crist/.venvs/fcenv/lib/python3.12/site-packages (from aiohttp<4->wslink>=2.3.3->trame) (6.6.3)\n",
      "Requirement already satisfied: propcache>=0.2.0 in /home/crist/.venvs/fcenv/lib/python3.12/site-packages (from aiohttp<4->wslink>=2.3.3->trame) (0.3.2)\n",
      "Requirement already satisfied: yarl<2.0,>=1.17.0 in /home/crist/.venvs/fcenv/lib/python3.12/site-packages (from aiohttp<4->wslink>=2.3.3->trame) (1.20.1)\n",
      "Requirement already satisfied: parso<0.9.0,>=0.8.4 in /home/crist/.venvs/fcenv/lib/python3.12/site-packages (from jedi>=0.16->ipython>=6.1.0->ipywidgets) (0.8.4)\n",
      "Requirement already satisfied: ptyprocess>=0.5 in /home/crist/.venvs/fcenv/lib/python3.12/site-packages (from pexpect>4.3->ipython>=6.1.0->ipywidgets) (0.7.0)\n",
      "Requirement already satisfied: wcwidth in /home/crist/.venvs/fcenv/lib/python3.12/site-packages (from prompt_toolkit<3.1.0,>=3.0.41->ipython>=6.1.0->ipywidgets) (0.2.13)\n",
      "Requirement already satisfied: six>=1.5 in /home/crist/.venvs/fcenv/lib/python3.12/site-packages (from python-dateutil>=2.7->matplotlib>=3.0.1->pyvista) (1.17.0)\n",
      "Requirement already satisfied: charset_normalizer<4,>=2 in /home/crist/.venvs/fcenv/lib/python3.12/site-packages (from requests>=2.19.0->pooch->pyvista) (3.4.2)\n",
      "Requirement already satisfied: idna<4,>=2.5 in /home/crist/.venvs/fcenv/lib/python3.12/site-packages (from requests>=2.19.0->pooch->pyvista) (3.10)\n",
      "Requirement already satisfied: urllib3<3,>=1.21.1 in /home/crist/.venvs/fcenv/lib/python3.12/site-packages (from requests>=2.19.0->pooch->pyvista) (2.5.0)\n",
      "Requirement already satisfied: certifi>=2017.4.17 in /home/crist/.venvs/fcenv/lib/python3.12/site-packages (from requests>=2.19.0->pooch->pyvista) (2025.8.3)\n",
      "Requirement already satisfied: executing>=1.2.0 in /home/crist/.venvs/fcenv/lib/python3.12/site-packages (from stack_data->ipython>=6.1.0->ipywidgets) (2.2.0)\n",
      "Requirement already satisfied: asttokens>=2.1.0 in /home/crist/.venvs/fcenv/lib/python3.12/site-packages (from stack_data->ipython>=6.1.0->ipywidgets) (3.0.0)\n",
      "Requirement already satisfied: pure-eval in /home/crist/.venvs/fcenv/lib/python3.12/site-packages (from stack_data->ipython>=6.1.0->ipywidgets) (0.2.3)\n"
     ]
    }
   ],
   "source": [
    "!PIP_BREAK_SYSTEM_PACKAGES=1 pip3 install pyvista vtk ipywidgets trame trame-vtk trame-vuetify --upgrade"
   ]
  },
  {
   "cell_type": "markdown",
   "metadata": {},
   "source": [
    "## Functionality on dummy data"
   ]
  },
  {
   "cell_type": "markdown",
   "metadata": {},
   "source": [
    "If you want to, you can skip to the next section for the visualization of a flow field."
   ]
  },
  {
   "cell_type": "markdown",
   "metadata": {},
   "source": [
    "### Generating the VTK output"
   ]
  },
  {
   "cell_type": "code",
   "execution_count": 32,
   "metadata": {},
   "outputs": [],
   "source": [
    "from ngsolve import *\n",
    "from netgen.occ import unit_cube"
   ]
  },
  {
   "cell_type": "code",
   "execution_count": 33,
   "metadata": {},
   "outputs": [],
   "source": [
    "#VTKOutput?"
   ]
  },
  {
   "cell_type": "code",
   "execution_count": 34,
   "metadata": {},
   "outputs": [
    {
     "data": {
      "text/plain": [
       "'vtkout'"
      ]
     },
     "execution_count": 34,
     "metadata": {},
     "output_type": "execute_result"
    }
   ],
   "source": [
    "mesh = Mesh (unit_cube.GenerateMesh(maxh=0.4))\n",
    "gfu = GridFunction (L2(mesh=mesh, order=3))\n",
    "gfu.Set(sin(4*pi*x*y*z))\n",
    "gfv = GridFunction (L2(mesh=mesh, order=3))\n",
    "gfv.Set(cos(x**2+y**2-z**2))\n",
    "\n",
    "#define VTK output for visualization:\n",
    "vtk = VTKOutput(mesh,coefs=[gfu,gfv],names=[\"gfu\",\"gfv\"],filename=\"vtkout\",subdivision=3, floatsize=\"single\",legacy=False)\n",
    "#execute the VTK output:\n",
    "vtk.Do()"
   ]
  },
  {
   "cell_type": "markdown",
   "metadata": {},
   "source": [
    "### Reading the VTK data to `pyvista`"
   ]
  },
  {
   "cell_type": "code",
   "execution_count": 35,
   "metadata": {},
   "outputs": [],
   "source": [
    "import pyvista\n",
    "pyvista.set_jupyter_backend('html')\n",
    "visobj = pyvista.read('vtkout.vtu')"
   ]
  },
  {
   "cell_type": "markdown",
   "metadata": {},
   "source": [
    "### Simple plotting"
   ]
  },
  {
   "cell_type": "markdown",
   "metadata": {},
   "source": [
    "Option 1: Call `plot`: (will give no result for jupyter book)"
   ]
  },
  {
   "cell_type": "code",
   "execution_count": 36,
   "metadata": {},
   "outputs": [
    {
     "data": {
      "application/vnd.jupyter.widget-view+json": {
       "model_id": "4a42633e0393427b8190d02c34b6472c",
       "version_major": 2,
       "version_minor": 0
      },
      "text/plain": [
       "EmbeddableWidget(value='<iframe srcdoc=\"<!DOCTYPE html>\\n<html>\\n  <head>\\n    <meta http-equiv=&quot;Content-…"
      ]
     },
     "metadata": {},
     "output_type": "display_data"
    }
   ],
   "source": [
    "visobj.plot(scalars=\"gfu\")"
   ]
  },
  {
   "cell_type": "markdown",
   "metadata": {},
   "source": [
    "Option 1b: Call `plot` with several options:  (will give no result for jupyter book)"
   ]
  },
  {
   "cell_type": "code",
   "execution_count": 37,
   "metadata": {},
   "outputs": [
    {
     "data": {
      "application/vnd.jupyter.widget-view+json": {
       "model_id": "16b846f99b6f49d8a2f2680757f6dfb4",
       "version_major": 2,
       "version_minor": 0
      },
      "text/plain": [
       "EmbeddableWidget(value='<iframe srcdoc=\"<!DOCTYPE html>\\n<html>\\n  <head>\\n    <meta http-equiv=&quot;Content-…"
      ]
     },
     "metadata": {},
     "output_type": "display_data"
    }
   ],
   "source": [
    "visobj.plot(scalars=\"gfu\", show_scalar_bar=True, show_edges=False, \n",
    "            edge_color='black', cmap='jet', lighting=True, \n",
    "            n_colors=16, clim=[-1,1], \n",
    "            scalar_bar_args={'title':'u', 'height':1.5, 'width':0.5, \n",
    "                             'position_x':0.1, 'position_y':0.1})"
   ]
  },
  {
   "cell_type": "markdown",
   "metadata": {},
   "source": [
    "Option 2: Use a visualization object (`pyvista.Plotter`) and add the data (possibly step by step) to it:"
   ]
  },
  {
   "cell_type": "code",
   "execution_count": 38,
   "metadata": {},
   "outputs": [
    {
     "data": {
      "application/vnd.jupyter.widget-view+json": {
       "model_id": "e6fe14738eb047dea5d9e84107c99590",
       "version_major": 2,
       "version_minor": 0
      },
      "text/plain": [
       "EmbeddableWidget(value='<iframe srcdoc=\"<!DOCTYPE html>\\n<html>\\n  <head>\\n    <meta http-equiv=&quot;Content-…"
      ]
     },
     "metadata": {},
     "output_type": "display_data"
    }
   ],
   "source": [
    "plot = pyvista.Plotter()\n",
    "plot.add_mesh(visobj, scalars=\"gfu\", cmap=\"terrain\")\n",
    "plot.show()\n",
    "plot.export_html(\"plot1.html\")"
   ]
  },
  {
   "cell_type": "markdown",
   "metadata": {},
   "source": [
    "For jupyter book take a look [here](plot1.html)"
   ]
  },
  {
   "cell_type": "markdown",
   "metadata": {},
   "source": [
    "### Some filters"
   ]
  },
  {
   "cell_type": "markdown",
   "metadata": {},
   "source": [
    "Slices: (will give no result for jupyter book)"
   ]
  },
  {
   "cell_type": "code",
   "execution_count": 39,
   "metadata": {},
   "outputs": [
    {
     "data": {
      "application/vnd.jupyter.widget-view+json": {
       "model_id": "44b4c2be8d56481495e2a15ad692f4ad",
       "version_major": 2,
       "version_minor": 0
      },
      "text/plain": [
       "EmbeddableWidget(value='<iframe srcdoc=\"<!DOCTYPE html>\\n<html>\\n  <head>\\n    <meta http-equiv=&quot;Content-…"
      ]
     },
     "metadata": {},
     "output_type": "display_data"
    }
   ],
   "source": [
    "orthoslices = visobj.slice_orthogonal()\n",
    "orthoslices.plot(scalars=\"gfu\")"
   ]
  },
  {
   "cell_type": "markdown",
   "metadata": {},
   "source": [
    "Iso-surfaces: (will give no result for jupyter book)"
   ]
  },
  {
   "cell_type": "code",
   "execution_count": 40,
   "metadata": {},
   "outputs": [
    {
     "name": "stdout",
     "output_type": "stream",
     "text": [
      "PolyData (0x70ca38060d00)\n",
      "  N Cells:    5709\n",
      "  N Points:   4479\n",
      "  N Strips:   0\n",
      "  X Bounds:   2.164e-02, 1.000e+00\n",
      "  Y Bounds:   2.164e-02, 1.000e+00\n",
      "  Z Bounds:   2.168e-02, 1.000e+00\n",
      "  N Arrays:   2\n"
     ]
    },
    {
     "data": {
      "application/vnd.jupyter.widget-view+json": {
       "model_id": "0c7f3c414162475fab9aae9da879710d",
       "version_major": 2,
       "version_minor": 0
      },
      "text/plain": [
       "EmbeddableWidget(value='<iframe srcdoc=\"<!DOCTYPE html>\\n<html>\\n  <head>\\n    <meta http-equiv=&quot;Content-…"
      ]
     },
     "metadata": {},
     "output_type": "display_data"
    }
   ],
   "source": [
    "contour = visobj.contour([0.25], scalars=\"gfu\", rng=[-1,1])\n",
    "print(contour)\n",
    "contour.plot(color=\"lightblue\", smooth_shading=False)"
   ]
  },
  {
   "cell_type": "markdown",
   "metadata": {},
   "source": [
    "Combining stuff: (will give no result for jupyter book)"
   ]
  },
  {
   "cell_type": "code",
   "execution_count": 41,
   "metadata": {},
   "outputs": [
    {
     "name": "stderr",
     "output_type": "stream",
     "text": [
      "/home/crist/.venvs/fcenv/lib/python3.12/site-packages/pyvista/core/filters/data_object.py:180: PyVistaDeprecationWarning: The default value of `inplace` for the filter `UnstructuredGrid.transform` will change in the future. Previously it defaulted to `True`, but will change to `False`. Explicitly set `inplace` to `True` or `False` to silence this warning.\n",
      "  warnings.warn(msg, PyVistaDeprecationWarning)\n"
     ]
    },
    {
     "data": {
      "application/vnd.jupyter.widget-view+json": {
       "model_id": "d59af3ce39e845c6a026b3b9bd8b929d",
       "version_major": 2,
       "version_minor": 0
      },
      "text/plain": [
       "EmbeddableWidget(value='<iframe srcdoc=\"<!DOCTYPE html>\\n<html>\\n  <head>\\n    <meta http-equiv=&quot;Content-…"
      ]
     },
     "metadata": {},
     "output_type": "display_data"
    }
   ],
   "source": [
    "import numpy as np\n",
    "def translation_matrix(x, y, z):\n",
    "    return np.array([\n",
    "        [1, 0, 0, x],\n",
    "        [0, 1, 0, 0],\n",
    "        [0, 0, 1, 0],\n",
    "        [0, 0, 0, 1]])\n",
    "box_moved_left = visobj.copy().transform(translation_matrix(-1,0,0))\n",
    "orthoslices_moved_right = orthoslices.combine().transform(translation_matrix(1,0,0))\n",
    "\n",
    "plot = pyvista.Plotter(shape=(1,2))\n",
    "plot.subplot(0,0)\n",
    "plot.add_text(\"subplot1\", font_size=24)\n",
    "plot.add_mesh(box_moved_left, scalars=\"gfu\", cmap=\"jet\")\n",
    "plot.add_mesh(contour, color=\"lightblue\", opacity=0.7)\n",
    "plot.add_mesh(orthoslices_moved_right, scalars=\"gfu\", cmap=\"jet\")\n",
    "plot.subplot(0,1)\n",
    "plot.add_text(\"subplot2\", font_size=24)\n",
    "plot.add_mesh(visobj, scalars=\"gfv\")\n",
    "\n",
    "plot.show()\n",
    "plot.export_html(\"plot2.html\")"
   ]
  },
  {
   "cell_type": "markdown",
   "metadata": {},
   "source": [
    "For jupyter book take a look [here](plot2.html)"
   ]
  },
  {
   "cell_type": "markdown",
   "metadata": {},
   "source": [
    "## Visualizing for the flow problem\n",
    "\n",
    "We assume that you ran the [`navierstokes_hdg_chorin.ipynb` example](navierstokes_hdg_chorin.ipynb) successfully (in parallel) and have the VTK output files available."
   ]
  },
  {
   "cell_type": "code",
   "execution_count": 42,
   "metadata": {},
   "outputs": [],
   "source": [
    "import pyvista\n",
    "pyvista.set_jupyter_backend('html')\n",
    "visobj = pyvista.read('parstokes.pvd')"
   ]
  },
  {
   "cell_type": "code",
   "execution_count": 43,
   "metadata": {},
   "outputs": [],
   "source": [
    "visobj = visobj.combine()"
   ]
  },
  {
   "cell_type": "markdown",
   "metadata": {},
   "source": [
    "(next cell generates no output in jupyter book)"
   ]
  },
  {
   "cell_type": "code",
   "execution_count": 44,
   "metadata": {},
   "outputs": [
    {
     "data": {
      "application/vnd.jupyter.widget-view+json": {
       "model_id": "1ccf0e3f78ee4a86ac73f6336809930a",
       "version_major": 2,
       "version_minor": 0
      },
      "text/plain": [
       "EmbeddableWidget(value='<iframe srcdoc=\"<!DOCTYPE html>\\n<html>\\n  <head>\\n    <meta http-equiv=&quot;Content-…"
      ]
     },
     "metadata": {},
     "output_type": "display_data"
    },
    {
     "data": {
      "application/vnd.jupyter.widget-view+json": {
       "model_id": "e33be9002e7543b79ba8f67348641d88",
       "version_major": 2,
       "version_minor": 0
      },
      "text/plain": [
       "EmbeddableWidget(value='<iframe srcdoc=\"<!DOCTYPE html>\\n<html>\\n  <head>\\n    <meta http-equiv=&quot;Content-…"
      ]
     },
     "metadata": {},
     "output_type": "display_data"
    }
   ],
   "source": [
    "orthoslices = visobj.slice_orthogonal().combine()\n",
    "orthoslices.plot(scalars=\"velocity\",cmap=\"jet\",clim=[0,2.25])\n",
    "orthoslices.plot(scalars=\"pressure\",cmap=\"coolwarm\",clim=[-0.06,0])"
   ]
  },
  {
   "cell_type": "code",
   "execution_count": 45,
   "metadata": {},
   "outputs": [
    {
     "name": "stderr",
     "output_type": "stream",
     "text": [
      "/home/crist/.venvs/fcenv/lib/python3.12/site-packages/pyvista/core/filters/data_set.py:3204: PyVistaDeprecationWarning: ``max_time`` parameter is deprecated.  It will be removed in v0.48\n",
      "  warnings.warn(\n"
     ]
    },
    {
     "data": {
      "application/vnd.jupyter.widget-view+json": {
       "model_id": "1691376764b74998b73f45e4190c0595",
       "version_major": 2,
       "version_minor": 0
      },
      "text/plain": [
       "EmbeddableWidget(value='<iframe srcdoc=\"<!DOCTYPE html>\\n<html>\\n  <head>\\n    <meta http-equiv=&quot;Content-…"
      ]
     },
     "metadata": {},
     "output_type": "display_data"
    }
   ],
   "source": [
    "plot = pyvista.Plotter()\n",
    "arrows = orthoslices.glyph(scale=\"velocity\", orient=\"velocity\", tolerance=0.03)\n",
    "\n",
    "seed = pyvista.Box(bounds=(-2,1,-1,1,-1,1), level=5)\n",
    "\n",
    "strl = visobj.streamlines_from_source(\n",
    "    seed,\n",
    "    vectors=\"velocity\",\n",
    "    max_step_length=1,\n",
    "    min_step_length=0.1,\n",
    "    max_time=500,\n",
    "    max_steps=5000,\n",
    "    max_error=1e-6,\n",
    "    integration_direction=\"forward\",\n",
    ")\n",
    "\n",
    "plot.add_mesh(orthoslices, scalars=\"velocity\", cmap=\"jet\")\n",
    "#plot.add_mesh(arrows, color=\"black\")\n",
    "plot.add_mesh(strl, color=\"black\")\n",
    "#plot.add_mesh(pyvista.Cylinder(center=(0.5,0.2,0.2), direction=(0,0,1), height=0.41, radius=0.05), color=\"white\")\n",
    "plot.show()\n",
    "plot.export_html(\"plot5.html\")"
   ]
  },
  {
   "cell_type": "markdown",
   "metadata": {},
   "source": [
    "When considered in html export (jupyter book), take a look [here](plot5.html)"
   ]
  }
 ],
 "metadata": {
  "kernelspec": {
   "display_name": "fcenv",
   "language": "python",
   "name": "python3"
  },
  "language_info": {
   "codemirror_mode": {
    "name": "ipython",
    "version": 3
   },
   "file_extension": ".py",
   "mimetype": "text/x-python",
   "name": "python",
   "nbconvert_exporter": "python",
   "pygments_lexer": "ipython3",
   "version": "3.12.3"
  }
 },
 "nbformat": 4,
 "nbformat_minor": 2
}
