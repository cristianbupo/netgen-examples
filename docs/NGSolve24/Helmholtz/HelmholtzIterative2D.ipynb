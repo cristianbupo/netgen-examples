{
 "cells": [
  {
   "cell_type": "markdown",
   "id": "c0b41661-7e55-40d5-90e0-ed0d172bf47d",
   "metadata": {},
   "source": [
    "# 2D Skeleton Block Jacobi and Sweeping Preconditioner\n",
    "Two preconditioners for the Helmholtz equation\n",
    "\n",
    "\\begin{alignat*}{2}\n",
    "    -\\Delta u - \\kappa^2 u &= 0 \\quad && \\text{ in } \\Omega, \\\\\n",
    "    \\nabla u \\cdot \\mathbf{n} + j \\kappa u &= g \\quad && \\text{ on } \\partial \\Omega\n",
    "\\end{alignat*}\n",
    "\n",
    "are introduced. It is based upon the mixed hybrid Discontinous Galerkin (HDG) formulation introduced in\n",
    "[Hybridizing Raviart-Thomas Elements for the Helmholtz Equation](https://www.tandfonline.com/doi/pdf/10.1080/02726340903485414).\n",
    "For the HDG formulation static condensation is emploid and for the resulting system of linear equations on the skeleton, a block Jacobi Preconditioner is applied.\n",
    "For more information about the formulation in combination with iterative solver strategies see [Hybrid discontinuous Galerkin methods for the wave equation](https://repositum.tuwien.at/handle/20.500.12708/9976)."
   ]
  },
  {
   "cell_type": "markdown",
   "id": "c2ac8e50-0339-4da3-83b9-a3d34cee6298",
   "metadata": {},
   "source": [
    "## Geometry\n",
    "The following simple square with circles as scattereres inside and a Gauß-peak on the left as excitation is considered as an example."
   ]
  },
  {
   "cell_type": "code",
   "execution_count": null,
   "id": "amino-reform",
   "metadata": {},
   "outputs": [],
   "source": [
    "from netgen.geom2d import CSG2d, Circle, Rectangle\n",
    "from ngsolve import *\n",
    "from ngsolve.webgui import Draw\n",
    "from math import ceil\n",
    "\n",
    "maxh = 0.02\n",
    "l = 2 #number spheres in y-direction\n",
    "rect = Rectangle( pmin=(-1,-1), pmax=(1,1), bc=\"transparent\", left=\"excitation\")\n",
    "\n",
    "#add circles\n",
    "dist = 0.3\n",
    "radius = dist/3\n",
    "yoff = -dist*(l-1)/2\n",
    "for it in range(l):\n",
    "    rect = rect - Circle( center=(0, yoff + dist*it), radius=radius, bc=\"dirichlet\" )\n",
    "\n",
    "geo = CSG2d()\n",
    "geo.Add(rect)\n",
    "mesh = geo.GenerateMesh(maxh = maxh)\n",
    "mesh = Mesh(mesh)\n",
    "mesh.Curve(3);\n",
    "Draw(mesh);"
   ]
  },
  {
   "cell_type": "code",
   "execution_count": null,
   "id": "spread-photograph",
   "metadata": {},
   "outputs": [],
   "source": [
    "p = 6 #fem order\n",
    "k = 320 #wavenumber  # 100 waves\n",
    "\n",
    "lam = 2*pi/k\n",
    "print(\"wavelength:\", lam)\n",
    "print(\"number waves in domain:\", 2/lam)\n",
    "transbnd = \"transparent|excitation\"\n",
    "excbnd = \"excitation\"\n",
    "scattererbnd = \"dirichlet\"\n",
    "excitation = -1e1*k*1j*exp(-2e1*(y**2))"
   ]
  },
  {
   "cell_type": "code",
   "execution_count": null,
   "id": "1f7b7bac-f2c9-4e49-b545-e5d44a68c449",
   "metadata": {},
   "outputs": [],
   "source": [
    "U = L2(mesh, order=p+1, complex=True)\n",
    "V = Discontinuous(HDiv(mesh, order=p, complex=True, RT=True)) # P^k Sub RT Sub P^k+1, div(RT) = P^k\n",
    "FD = FacetFESpace(mesh, order=p+1, complex=True, highest_order_dc = True, dirichlet = scattererbnd)\n",
    "FN = NormalFacetFESpace(mesh, order=p, complex=True)\n",
    "X = U*V*FD*FN\n",
    "print(\"nDof:\", X.ndof, \"(u\", U.ndof, \", sigma\", V.ndof, \", uhat\", FD.ndof, \", sigmahat\", FN.ndof, \")\")"
   ]
  },
  {
   "cell_type": "markdown",
   "id": "9092f7c1-ca88-4fd9-8e90-4e7c05f67073",
   "metadata": {},
   "source": [
    "## Weak Formulation\n",
    "The mixed formulation is stated on the space $L_2(\\Omega) \\times H_{pw}(div, \\Omega) \\times L_2(\\mathcal{F}) \\times L_2(\\mathcal{F})$\n",
    "with the sesquilinearform\n",
    "\n",
    "\\begin{alignat*}{2}\n",
    "    s(u, \\sigma, \\hat u, \\hat \\sigma; v, \\tau, \\hat v, \\hat \\tau) :=\n",
    "        \\sum_{T \\in \\mathcal{T}}\\int_T j\\kappa u v - div(\\sigma) v - u div(\\tau) - j \\kappa \\sigma \\tau d\\mathbf{x}\n",
    "        + \\int_{\\partial T} \\sigma \\cdot \\mathbf{n} \\hat v + \\hat u \\tau \\cdot \\mathbf{n} d \\mathbf{s} \\\\\n",
    "        + \\int_{\\partial T} 2(\\sigma - \\hat \\sigma) \\cdot \\mathbf{n} (\\tau - \\hat \\tau) \\cdot \\mathbf{n}\n",
    "    - \\frac{1}{2}(\\Pi^p u - \\hat u) (\\Pi^p v - \\hat v) d\\mathbf{s} - \\int_{\\partial \\Omega} \\hat u \\hat v d \\mathbf{s}.\n",
    "\\end{alignat*}\n",
    "\n",
    "In the sesquilinearform condensation is enabled and internal elements matrices are not stored\n",
    "to reduce the memory consumption. This implies that at the end the solution need to be extended\n",
    "from skeleton unknowns onto elements.\n",
    "The method of projected jumps by Schöberl and Lehrenfeld is applied to increase the polynomial order of the scalar variable $u$ on elements."
   ]
  },
  {
   "cell_type": "code",
   "execution_count": null,
   "id": "2e371a35-3639-4194-8019-f3d1d62a3cb6",
   "metadata": {},
   "outputs": [],
   "source": [
    "(u, sigma, uhat, sigmahat), (v, tau, vhat, tauhat) = X.TnT()\n",
    "n = specialcf.normal(mesh.dim)\n",
    "\n",
    "eliminate = True\n",
    "a = BilinearForm(X, condense = eliminate, eliminate_internal=eliminate)\n",
    "a += (1j*k*u*v - div(sigma)*v - u*div(tau) - 1j*k*sigma*tau) *dx\n",
    "a += (sigma*n*vhat + uhat*tau*n) *dx(element_boundary=True)\n",
    "a += (2*(sigma-sigmahat)*n*(tau-tauhat)*n - 1/2*(u-uhat)*(v-vhat)) *dx(element_boundary=True)\n",
    "a += -uhat.Trace()*vhat.Trace() *ds(definedon=mesh.Boundaries(transbnd))\n",
    "\n",
    "f = LinearForm(X)\n",
    "f += -1/k**2 * excitation * vhat.Trace() *ds(definedon = mesh.Boundaries(excbnd))"
   ]
  },
  {
   "cell_type": "markdown",
   "id": "4fdf7ed1-2b56-474d-a25e-22a839bb7c21",
   "metadata": {},
   "source": [
    "## Skeleton Block Jacobi Preconditioner in 2D\n",
    "The unknowns on a face per vertex patch are combined for the block Jacobi preconditioner."
   ]
  },
  {
   "cell_type": "code",
   "execution_count": null,
   "id": "11b68e34-2767-44f7-8354-d06b6353cab7",
   "metadata": {
    "editable": true,
    "slideshow": {
     "slide_type": ""
    },
    "tags": []
   },
   "outputs": [],
   "source": [
    "def GenerateBlocks(ablf, mesh, X, GS=False):\n",
    "    fdofs = X.FreeDofs()\n",
    "    blocks = []\n",
    "    # generate vertex patches\n",
    "    for v in mesh.vertices:\n",
    "        vdofs = []\n",
    "        for ed in mesh[v].edges:\n",
    "            edgedofs = X.GetDofNrs(ed)\n",
    "            for edof in edgedofs:\n",
    "                if fdofs[edof]:\n",
    "                    vdofs.append(edof)\n",
    "        blocks.append(vdofs)\n",
    "    blockjacobi = ablf.mat.CreateBlockSmoother(blocks, GS=GS)\n",
    "    return blockjacobi"
   ]
  },
  {
   "cell_type": "code",
   "execution_count": null,
   "id": "d3809ac7-6d24-428c-a79d-86a43da77f70",
   "metadata": {
    "editable": true,
    "slideshow": {
     "slide_type": ""
    },
    "tags": [
     "scroll-output"
    ]
   },
   "outputs": [],
   "source": [
    "gfu = GridFunction(X)\n",
    "with TaskManager():\n",
    "    print(\"Assemble a\")\n",
    "    a.Assemble()\n",
    "    print(\"Assemble f\")\n",
    "    f.Assemble()\n",
    "    \n",
    "    print(\"Block jacobi preconditioner\")\n",
    "    precond = GenerateBlocks(a, mesh, X, GS=False)\n",
    "    \n",
    "    solvers.CG(mat=a.mat, rhs=f.vec, sol=gfu.vec, pre=precond, maxsteps=1000, tol=1e-5, plotrates=True)\n",
    "    print(\"Compute internal solution\")\n",
    "    a.ComputeInternal (gfu.vec, f.vec)\n",
    "    print(\"Done\")"
   ]
  },
  {
   "cell_type": "code",
   "execution_count": null,
   "id": "d41be6f0-8fa1-4231-a5aa-7a3a6926b526",
   "metadata": {},
   "outputs": [],
   "source": [
    "Draw(gfu.components[0], mesh, \"press\", min=-0.01, max=0.01, order=4, \\\n",
    "     animate_complex=True, deformation=True, scale=1, \\\n",
    "    euler_angles=[-70,0.4,2], settings={\"Objects\": {\"Wireframe\": False}});"
   ]
  },
  {
   "cell_type": "markdown",
   "id": "9738318e-a34b-42b5-ae9b-9b65750964ea",
   "metadata": {},
   "source": [
    "## Sweeping like Domain Decomposition Preconditioner\n",
    "A sweeping like multiplicative Schwarz preconditioner based on domain decomposition is used.\n",
    "First the domain is split with pymetis in the function \"GenerateSubdomains\",\n",
    "then for each subdomain a list of corresponding facet unknowns is generated with \"GetDofLists\".\n",
    "Next the local inverses on each subdomain are calculated in \"GenerateDDBlocks\"\n",
    "and finally the preconditioner is realised with the class \"SweepingPrecond\"."
   ]
  },
  {
   "cell_type": "code",
   "execution_count": null,
   "id": "3d6cabaf-a9e2-4403-a4de-1290aeaf9b78",
   "metadata": {},
   "outputs": [],
   "source": [
    "def GenerateSubdomains(mesh, ndom):\n",
    "    nbels = []\n",
    "    for el in mesh.Elements(VOL):\n",
    "        nbs = []\n",
    "        for f in el.facets:\n",
    "            for nb in mesh[f].elements:\n",
    "                if nb != el:\n",
    "                    nbs.append(nb.nr)\n",
    "        nbels.append(nbs)\n",
    "    import pymetis\n",
    "    n_cuts, membership = pymetis.part_graph(ndom, adjacency=nbels)\n",
    "    return n_cuts, membership\n",
    "\n",
    "def GetDofLists(mesh, membership, X, ndom):\n",
    "    domaindofs = [BitArray(X.ndof) for i in range(ndom)]\n",
    "    for domdof in domaindofs: domdof.Clear()\n",
    "    f0dofs = X.components[0].ndof + X.components[1].ndof\n",
    "    f1 = X.components[2]\n",
    "    f1dofs = X.components[2].ndof\n",
    "    f2 = X.components[3]\n",
    "    for el in mesh.Elements(VOL):\n",
    "        subdom = domaindofs[membership[el.nr]]\n",
    "        for edge in el.facets:\n",
    "            dofis = f1.GetDofNrs(edge)\n",
    "            #print(dofis)\n",
    "            for d in dofis:\n",
    "                subdom.Set(d+f0dofs)\n",
    "            dofis = f2.GetDofNrs(edge)\n",
    "            for d in dofis:\n",
    "                subdom.Set(d+f0dofs+f1dofs)\n",
    "    return domaindofs\n",
    "\n",
    "def GenerateDDBlocks(ablf, layers):\n",
    "    blockinv = []\n",
    "    for l in layers:\n",
    "        inv = ablf.mat.Inverse(freedofs=l, inverse=\"sparsecholesky\")\n",
    "        blockinv.append(inv)\n",
    "    return blockinv\n",
    "\n",
    "# Multiplicative Schwarz preconditioner\n",
    "class SweepingPrecond(BaseMatrix):\n",
    "    def __init__ (self, blockinv):\n",
    "        super(SweepingPrecond, self).__init__()\n",
    "        self.blockinv = blockinv\n",
    "    def Mult (self, x, y):\n",
    "        y[:] = 0.0\n",
    "        for inv in self.blockinv[::-1]:\n",
    "            inv.Smooth(y, x)\n",
    "        for inv in self.blockinv:\n",
    "            inv.Smooth(y, x)"
   ]
  },
  {
   "cell_type": "markdown",
   "id": "f98747b8-7760-4930-ac64-b87a961b5d04",
   "metadata": {},
   "source": [
    "## Initialisation Steps for the DD Preconditioner\n",
    "The layers for the preconditioner and the corresponding lists of degrees of freedoms are generated."
   ]
  },
  {
   "cell_type": "code",
   "execution_count": null,
   "id": "6ad82221-56bf-483e-af95-c8923f5b699c",
   "metadata": {},
   "outputs": [],
   "source": [
    "ndomains = ceil((FD.ndof + FN.ndof) / 1e4)\n",
    "print(\"nDomains:\", ndomains)\n",
    "ncuts, dddomains = GenerateSubdomains(mesh, ndomains)\n",
    "gfdom = GridFunction(L2(mesh,order=0))\n",
    "gfdom.vec.data = BaseVector(dddomains)\n",
    "Draw (gfdom, mesh, \"dddomains\", settings={\"Objects\": {\"Wireframe\": False}, \"Colormap\": {\"ncolors\": ndomains}})\n",
    "ddlayers = GetDofLists(mesh, dddomains, X, ndomains)"
   ]
  },
  {
   "cell_type": "code",
   "execution_count": null,
   "id": "subjective-filename",
   "metadata": {
    "editable": true,
    "slideshow": {
     "slide_type": ""
    },
    "tags": [
     "scroll-output"
    ]
   },
   "outputs": [],
   "source": [
    "gfu = GridFunction(X)\n",
    "with TaskManager():\n",
    "    print(\"Assemble a\")\n",
    "    a.Assemble()\n",
    "    print(\"Assemble f\")\n",
    "    f.Assemble()\n",
    "\n",
    "    print(\"Domain decomposition preconditioner\")\n",
    "    ddblockinv = GenerateDDBlocks(a, ddlayers)\n",
    "    precond = SweepingPrecond(ddblockinv)\n",
    "    \n",
    "    solvers.CG(mat=a.mat, rhs=f.vec, sol=gfu.vec, pre=precond, maxsteps=1000, tol=1e-5, plotrates=True)\n",
    "    print(\"Compute internal solution\")\n",
    "    a.ComputeInternal (gfu.vec, f.vec)\n",
    "    print(\"Done\")"
   ]
  },
  {
   "cell_type": "code",
   "execution_count": null,
   "id": "thorough-proceeding",
   "metadata": {},
   "outputs": [],
   "source": [
    "Draw(gfu.components[0], mesh, \"press\", min=-0.01, max=0.01, order=4, \\\n",
    "     animate_complex=True, deformation=True, scale=1, \\\n",
    "    euler_angles=[-70,0.4,2], settings={\"Objects\": {\"Wireframe\": False}});"
   ]
  }
 ],
 "metadata": {
  "kernelspec": {
   "display_name": "Python 3 (ipykernel)",
   "language": "python",
   "name": "python3"
  },
  "language_info": {
   "codemirror_mode": {
    "name": "ipython",
    "version": 3
   },
   "file_extension": ".py",
   "mimetype": "text/x-python",
   "name": "python",
   "nbconvert_exporter": "python",
   "pygments_lexer": "ipython3",
   "version": "3.12.2"
  }
 },
 "nbformat": 4,
 "nbformat_minor": 5
}
